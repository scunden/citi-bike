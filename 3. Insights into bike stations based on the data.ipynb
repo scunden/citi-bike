{
 "cells": [
  {
   "cell_type": "markdown",
   "metadata": {},
   "source": [
    "## Setup Environment & Import Data"
   ]
  },
  {
   "cell_type": "code",
   "execution_count": 2,
   "metadata": {},
   "outputs": [
    {
     "name": "stderr",
     "output_type": "stream",
     "text": [
      "C:\\Users\\steven.cunden\\AppData\\Roaming\\Python\\Python38\\site-packages\\statsmodels\\compat\\pandas.py:65: FutureWarning: pandas.Int64Index is deprecated and will be removed from pandas in a future version. Use pandas.Index with the appropriate dtype instead.\n",
      "  from pandas import Int64Index as NumericIndex\n"
     ]
    }
   ],
   "source": [
    "import pandas as pd\n",
    "import numpy as np\n",
    "import matplotlib.pyplot as plt\n",
    "import seaborn as sns\n",
    "import utils\n",
    "import datetime as dt\n",
    "from datetime import date\n",
    "from dateutil.relativedelta import relativedelta  \n",
    "import warnings\n",
    "from tqdm import tqdm\n",
    "from sklearn.preprocessing import MinMaxScaler\n",
    "import plotly.express as px\n",
    "\n",
    "\n",
    "warnings.filterwarnings('ignore')\n",
    "  \n",
    "\n",
    "pd.set_option('display.max_columns', None)\n",
    "%load_ext autoreload\n",
    "%autoreload 2\n",
    "%reload_ext autoreload\n",
    "sns.set_theme()"
   ]
  },
  {
   "cell_type": "code",
   "execution_count": 208,
   "metadata": {},
   "outputs": [],
   "source": [
    "trips, stations = utils.upload_data()\n",
    "trips = utils.filter_outliers(trips, 99, 80)\n",
    "trips['Date'] = pd.to_datetime(trips['date']) - pd.to_timedelta(7, unit='d')\n",
    "\n",
    "agg = trips.groupby(['date']).size()\n",
    "agg.index = pd.to_datetime(agg.index)\n",
    "agg = agg.asfreq(\"D\")\n"
   ]
  },
  {
   "attachments": {},
   "cell_type": "markdown",
   "metadata": {},
   "source": [
    "## Wrangle Data"
   ]
  },
  {
   "cell_type": "code",
   "execution_count": 224,
   "metadata": {},
   "outputs": [
    {
     "name": "stderr",
     "output_type": "stream",
     "text": [
      "100%|██████████| 584/584 [00:00<00:00, 599.58it/s]\n"
     ]
    }
   ],
   "source": [
    "cols = ['start_station_id','start_station_name']\n",
    "duration_agg = trips.groupby(cols).tripduration.mean()\n",
    "\n",
    "start_cols = ['start_station_id','start_station_name']\n",
    "start_agg = trips.groupby(['year','month']+start_cols).size()\n",
    "start_agg = start_agg.reset_index().rename({0:'count'}, axis=1).groupby(start_cols)['count'].mean()\n",
    "start_agg.name = 'start_count'\n",
    "\n",
    "end_cols = ['end_station_id','end_station_name']\n",
    "end_agg = trips.groupby(['year','month']+end_cols).size()\n",
    "end_agg = end_agg.reset_index().rename({0:'count'}, axis=1).groupby(end_cols)['count'].mean()\n",
    "end_agg.name = 'end_count'\n",
    "\n",
    "\n",
    "connections = trips.loc[trips.start_station_id!=trips.end_station_id]\n",
    "station_ids = list(set(connections.start_station_id.unique().tolist()+connections.end_station_id.unique().tolist()))\n",
    "tracker=[]\n",
    "for station in tqdm(station_ids):\n",
    "\n",
    "    num_conn = connections.loc[(connections.start_station_id==station)|(connections.end_station_id==station)]\n",
    "    cns = list(set(num_conn.start_station_id.unique().tolist()+num_conn.end_station_id.unique().tolist()))\n",
    "    # tracker.update({station:len(cns)})\n",
    "    tracker.append(len(cns))\n",
    "\n",
    "df = pd.concat([start_agg, end_agg, duration_agg], axis=1).reset_index()\n",
    "df = df.fillna(0)\n",
    "df = df.rename({'level_0':'station_id','level_1':'station_name'}, axis=1)\n",
    "\n",
    "temp = pd.concat([pd.DataFrame(station_ids),pd.DataFrame(tracker)], axis=1)\n",
    "temp.columns = ['station_id','connections']\n",
    "df = df.merge(temp, how='left')\n",
    "\n",
    "df = df.merge(stations[['station_id_int','latitude','longitude']], \n",
    "         left_on='station_id', \n",
    "         right_on='station_id_int')"
   ]
  },
  {
   "cell_type": "code",
   "execution_count": 225,
   "metadata": {},
   "outputs": [
    {
     "data": {
      "text/html": [
       "<div>\n",
       "<style scoped>\n",
       "    .dataframe tbody tr th:only-of-type {\n",
       "        vertical-align: middle;\n",
       "    }\n",
       "\n",
       "    .dataframe tbody tr th {\n",
       "        vertical-align: top;\n",
       "    }\n",
       "\n",
       "    .dataframe thead th {\n",
       "        text-align: right;\n",
       "    }\n",
       "</style>\n",
       "<table border=\"1\" class=\"dataframe\">\n",
       "  <thead>\n",
       "    <tr style=\"text-align: right;\">\n",
       "      <th></th>\n",
       "      <th>station_id</th>\n",
       "      <th>station_name</th>\n",
       "      <th>start_count</th>\n",
       "      <th>end_count</th>\n",
       "      <th>tripduration</th>\n",
       "      <th>connections</th>\n",
       "      <th>station_id_int</th>\n",
       "      <th>latitude</th>\n",
       "      <th>longitude</th>\n",
       "    </tr>\n",
       "  </thead>\n",
       "  <tbody>\n",
       "    <tr>\n",
       "      <th>0</th>\n",
       "      <td>72</td>\n",
       "      <td>W 52 St &amp; 11 Ave</td>\n",
       "      <td>19.473684</td>\n",
       "      <td>19.421053</td>\n",
       "      <td>950.952703</td>\n",
       "      <td>254.0</td>\n",
       "      <td>72</td>\n",
       "      <td>40.767272</td>\n",
       "      <td>-73.993929</td>\n",
       "    </tr>\n",
       "    <tr>\n",
       "      <th>1</th>\n",
       "      <td>79</td>\n",
       "      <td>Franklin St &amp; W Broadway</td>\n",
       "      <td>17.342105</td>\n",
       "      <td>19.026316</td>\n",
       "      <td>737.438543</td>\n",
       "      <td>245.0</td>\n",
       "      <td>79</td>\n",
       "      <td>40.719116</td>\n",
       "      <td>-74.006667</td>\n",
       "    </tr>\n",
       "    <tr>\n",
       "      <th>2</th>\n",
       "      <td>82</td>\n",
       "      <td>St James Pl &amp; Pearl St</td>\n",
       "      <td>7.263158</td>\n",
       "      <td>7.657895</td>\n",
       "      <td>675.568841</td>\n",
       "      <td>161.0</td>\n",
       "      <td>82</td>\n",
       "      <td>40.711174</td>\n",
       "      <td>-74.000165</td>\n",
       "    </tr>\n",
       "    <tr>\n",
       "      <th>3</th>\n",
       "      <td>83</td>\n",
       "      <td>Atlantic Ave &amp; Fort Greene Pl</td>\n",
       "      <td>8.473684</td>\n",
       "      <td>9.108108</td>\n",
       "      <td>802.773292</td>\n",
       "      <td>200.0</td>\n",
       "      <td>83</td>\n",
       "      <td>40.683826</td>\n",
       "      <td>-73.976323</td>\n",
       "    </tr>\n",
       "    <tr>\n",
       "      <th>4</th>\n",
       "      <td>116</td>\n",
       "      <td>W 17 St &amp; 8 Ave</td>\n",
       "      <td>38.342105</td>\n",
       "      <td>39.263158</td>\n",
       "      <td>596.573782</td>\n",
       "      <td>276.0</td>\n",
       "      <td>116</td>\n",
       "      <td>40.741776</td>\n",
       "      <td>-74.001497</td>\n",
       "    </tr>\n",
       "    <tr>\n",
       "      <th>...</th>\n",
       "      <td>...</td>\n",
       "      <td>...</td>\n",
       "      <td>...</td>\n",
       "      <td>...</td>\n",
       "      <td>...</td>\n",
       "      <td>...</td>\n",
       "      <td>...</td>\n",
       "      <td>...</td>\n",
       "      <td>...</td>\n",
       "    </tr>\n",
       "    <tr>\n",
       "      <th>456</th>\n",
       "      <td>3368</td>\n",
       "      <td>5 Ave &amp; 3 St</td>\n",
       "      <td>0.000000</td>\n",
       "      <td>2.000000</td>\n",
       "      <td>0.000000</td>\n",
       "      <td>3.0</td>\n",
       "      <td>3368</td>\n",
       "      <td>40.672815</td>\n",
       "      <td>-73.983524</td>\n",
       "    </tr>\n",
       "    <tr>\n",
       "      <th>457</th>\n",
       "      <td>3402</td>\n",
       "      <td>Court St &amp; State St</td>\n",
       "      <td>0.000000</td>\n",
       "      <td>2.000000</td>\n",
       "      <td>0.000000</td>\n",
       "      <td>3.0</td>\n",
       "      <td>3402</td>\n",
       "      <td>40.690238</td>\n",
       "      <td>-73.992031</td>\n",
       "    </tr>\n",
       "    <tr>\n",
       "      <th>458</th>\n",
       "      <td>3403</td>\n",
       "      <td>4 Ave &amp; 9 St</td>\n",
       "      <td>0.000000</td>\n",
       "      <td>2.000000</td>\n",
       "      <td>0.000000</td>\n",
       "      <td>3.0</td>\n",
       "      <td>3403</td>\n",
       "      <td>40.670513</td>\n",
       "      <td>-73.988766</td>\n",
       "    </tr>\n",
       "    <tr>\n",
       "      <th>459</th>\n",
       "      <td>3405</td>\n",
       "      <td>5 St &amp; 6 Ave</td>\n",
       "      <td>0.000000</td>\n",
       "      <td>1.000000</td>\n",
       "      <td>0.000000</td>\n",
       "      <td>2.0</td>\n",
       "      <td>3405</td>\n",
       "      <td>40.670484</td>\n",
       "      <td>-73.982090</td>\n",
       "    </tr>\n",
       "    <tr>\n",
       "      <th>460</th>\n",
       "      <td>3413</td>\n",
       "      <td>Wyckoff St &amp; 3 Ave</td>\n",
       "      <td>0.000000</td>\n",
       "      <td>3.000000</td>\n",
       "      <td>0.000000</td>\n",
       "      <td>4.0</td>\n",
       "      <td>3413</td>\n",
       "      <td>40.682755</td>\n",
       "      <td>-73.982586</td>\n",
       "    </tr>\n",
       "  </tbody>\n",
       "</table>\n",
       "<p>461 rows × 9 columns</p>\n",
       "</div>"
      ],
      "text/plain": [
       "     station_id                   station_name  start_count  end_count  \\\n",
       "0            72               W 52 St & 11 Ave    19.473684  19.421053   \n",
       "1            79       Franklin St & W Broadway    17.342105  19.026316   \n",
       "2            82         St James Pl & Pearl St     7.263158   7.657895   \n",
       "3            83  Atlantic Ave & Fort Greene Pl     8.473684   9.108108   \n",
       "4           116                W 17 St & 8 Ave    38.342105  39.263158   \n",
       "..          ...                            ...          ...        ...   \n",
       "456        3368                   5 Ave & 3 St     0.000000   2.000000   \n",
       "457        3402            Court St & State St     0.000000   2.000000   \n",
       "458        3403                   4 Ave & 9 St     0.000000   2.000000   \n",
       "459        3405                   5 St & 6 Ave     0.000000   1.000000   \n",
       "460        3413             Wyckoff St & 3 Ave     0.000000   3.000000   \n",
       "\n",
       "     tripduration  connections  station_id_int   latitude  longitude  \n",
       "0      950.952703        254.0              72  40.767272 -73.993929  \n",
       "1      737.438543        245.0              79  40.719116 -74.006667  \n",
       "2      675.568841        161.0              82  40.711174 -74.000165  \n",
       "3      802.773292        200.0              83  40.683826 -73.976323  \n",
       "4      596.573782        276.0             116  40.741776 -74.001497  \n",
       "..            ...          ...             ...        ...        ...  \n",
       "456      0.000000          3.0            3368  40.672815 -73.983524  \n",
       "457      0.000000          3.0            3402  40.690238 -73.992031  \n",
       "458      0.000000          3.0            3403  40.670513 -73.988766  \n",
       "459      0.000000          2.0            3405  40.670484 -73.982090  \n",
       "460      0.000000          4.0            3413  40.682755 -73.982586  \n",
       "\n",
       "[461 rows x 9 columns]"
      ]
     },
     "execution_count": 225,
     "metadata": {},
     "output_type": "execute_result"
    }
   ],
   "source": [
    "df"
   ]
  },
  {
   "cell_type": "code",
   "execution_count": 227,
   "metadata": {},
   "outputs": [],
   "source": [
    "scaler = MinMaxScaler()\n",
    "model = scaler.fit(df[['start_count', 'end_count', 'tripduration', 'connections']])\n",
    "scaled_data = model.transform(df[['start_count', 'end_count', 'tripduration', 'connections']])\n",
    "df[['s_start_count', 's_end_count', 's_tripduration', 's_connections']] = scaled_data"
   ]
  },
  {
   "cell_type": "code",
   "execution_count": 241,
   "metadata": {},
   "outputs": [
    {
     "data": {
      "image/png": "[encoded data removed]",
      "text/plain": [
       "<Figure size 1080x576 with 4 Axes>"
      ]
     },
     "metadata": {},
     "output_type": "display_data"
    }
   ],
   "source": [
    "fig, ax = plt.subplots(1,4,figsize=(15,8))\n",
    "sns.scatterplot(data=df, x=\"latitude\", y=\"longitude\", hue=\"s_start_count\", size=\"s_start_count\", \n",
    "                ax=ax[0], sizes=(0, 1000),palette=\"mako\", alpha=0.8)\n",
    "\n",
    "sns.scatterplot(data=df, x=\"latitude\", y=\"longitude\", hue=\"s_end_count\", size=\"s_end_count\", \n",
    "                ax=ax[1], sizes=(0, 1000),palette=\"mako\", alpha=0.8)\n",
    "\n",
    "sns.scatterplot(data=df, x=\"latitude\", y=\"longitude\", hue=\"s_connections\", size=\"s_connections\", \n",
    "                ax=ax[2], sizes=(0, 1000),palette=\"mako\", alpha=0.8)\n",
    "\n",
    "sns.scatterplot(data=df, x=\"latitude\", y=\"longitude\", hue=\"s_tripduration\", size=\"s_tripduration\", \n",
    "                ax=ax[3], sizes=(0, 1000),palette=\"mako\", alpha=0.8)\n",
    "\n",
    "ax[0].set_title(\"Avg Trips Started at Location\")\n",
    "ax[1].set_title(\"Avg Trips Started at Location\")\n",
    "ax[2].set_title(\"Avg Number of Station Connections\")\n",
    "ax[3].set_title(\"Avg Trip Duration\")\n",
    "\n",
    "ax[1].set_ylabel(\"\")\n",
    "ax[1].set_yticklabels([])\n",
    "\n",
    "ax[2].set_ylabel(\"\")\n",
    "ax[2].set_yticklabels([])\n",
    "\n",
    "ax[3].set_ylabel(\"\")\n",
    "ax[3].set_yticklabels([])\n",
    "\n",
    "fig.tight_layout()\n",
    "\n",
    "fig.savefig('images/individual_performances_map.png')"
   ]
  },
  {
   "cell_type": "code",
   "execution_count": 234,
   "metadata": {},
   "outputs": [],
   "source": [
    "df['perf_score'] = df[['s_start_count', 's_end_count', 's_tripduration', 's_connections']].mean(axis=1)\n"
   ]
  },
  {
   "cell_type": "code",
   "execution_count": 240,
   "metadata": {},
   "outputs": [
    {
     "data": {
      "application/vnd.plotly.v1+json": {
       "config": {
        "plotlyServerURL": "https://plot.ly"
       },
       "data": [
        {
         "customdata": [
          [
           19.473684210526315,
           19.42105263157895,
           950.9527027027027,
           254
          ],
          [
           17.342105263157894,
           19.026315789473685,
           737.4385432473445,
           245
          ],
          [
           7.2631578947368425,
           7.657894736842105,
           675.5688405797101,
           161
          ],
          [
           8.473684210526315,
           9.108108108108109,
           802.7732919254659,
           200
          ],
          [
           38.3421052631579,
           39.26315789473684,
           596.5737817433081,
           276
          ],
          [
           1.8571428571428572,
           1.962962962962963,
           720.8076923076923,
           49
          ],
          [
           4.277777777777778,
           4.225806451612903,
           878.7987012987013,
           113
          ],
          [
           40.94736842105263,
           41.421052631578945,
           740.9428020565553,
           286
          ],
          [
           37.972972972972975,
           39.24324324324324,
           740.3053380782918,
           306
          ],
          [
           7.138888888888889,
           7.944444444444445,
           785.6070038910506,
           149
          ],
          [
           3.3125,
           3.3548387096774195,
           885.5943396226415,
           108
          ],
          [
           17.789473684210527,
           17.842105263157894,
           692.1642011834319,
           239
          ],
          [
           15.552631578947368,
           15.675675675675675,
           727.8730964467005,
           227
          ],
          [
           48.89473684210526,
           48.10526315789474,
           694.7965554359527,
           325
          ],
          [
           14.210526315789474,
           15.789473684210526,
           780.3962962962963,
           252
          ],
          [
           28,
           26.085714285714285,
           644.05,
           266
          ],
          [
           9.078947368421053,
           9.342105263157896,
           749.2811594202899,
           149
          ],
          [
           32.526315789473685,
           32.31578947368421,
           656.7265372168284,
           295
          ],
          [
           18.36842105263158,
           20.13157894736842,
           765.8065902578796,
           261
          ],
          [
           43.526315789473685,
           44.21052631578947,
           661.8422007255139,
           288
          ],
          [
           20.81578947368421,
           21.526315789473685,
           741.0821744627054,
           264
          ],
          [
           21.81578947368421,
           20.657894736842106,
           801.7201447527141,
           280
          ],
          [
           24.083333333333332,
           25.5,
           690.8327566320646,
           249
          ],
          [
           3.6666666666666665,
           3.5,
           796.0743801652893,
           84
          ],
          [
           6.575757575757576,
           6.945945945945946,
           1039.5714285714287,
           135
          ],
          [
           25.2972972972973,
           25.18918918918919,
           608.9369658119658,
           236
          ],
          [
           12.973684210526315,
           12.605263157894736,
           748.6713995943205,
           233
          ],
          [
           18.5,
           18.842105263157894,
           764.9132290184922,
           248
          ],
          [
           34.13513513513514,
           35.432432432432435,
           619.9612034837688,
           305
          ],
          [
           3.9393939393939394,
           3.0303030303030303,
           917.2692307692307,
           105
          ],
          [
           32.86842105263158,
           33.421052631578945,
           667.2145716573259,
           300
          ],
          [
           18.18421052631579,
           17.92105263157895,
           762.931982633864,
           247
          ],
          [
           7.947368421052632,
           6.675675675675675,
           473.14900662251654,
           84
          ],
          [
           5.342105263157895,
           5.54054054054054,
           583.0147783251232,
           112
          ],
          [
           5.428571428571429,
           6.357142857142857,
           866.3815789473684,
           131
          ],
          [
           4.571428571428571,
           5.217391304347826,
           797.625,
           131
          ],
          [
           7.055555555555555,
           6.621621621621622,
           615.4645669291339,
           108
          ],
          [
           3.21875,
           2.607142857142857,
           607.9902912621359,
           82
          ],
          [
           17.789473684210527,
           17.42105263157895,
           666.2352071005918,
           235
          ],
          [
           7.026315789473684,
           6.54054054054054,
           829.1048689138577,
           184
          ],
          [
           12.675675675675675,
           11.81578947368421,
           762.5522388059702,
           210
          ],
          [
           36.94444444444444,
           36.916666666666664,
           659.8285714285714,
           307
          ],
          [
           36,
           45,
           608.7222222222222,
           307
          ],
          [
           31.736842105263158,
           33.026315789473685,
           717.7014925373135,
           315
          ],
          [
           21.07894736842105,
           20.842105263157894,
           641.147315855181,
           262
          ],
          [
           16.65714285714286,
           17.257142857142856,
           630.4185248713551,
           239
          ],
          [
           20.342105263157894,
           18,
           687.3958602846054,
           265
          ],
          [
           7.857142857142857,
           5.894736842105263,
           562.7163636363637,
           125
          ],
          [
           12.756756756756756,
           13.18421052631579,
           1239.4830508474577,
           232
          ],
          [
           9,
           10.342105263157896,
           940.6286549707602,
           205
          ],
          [
           8.621621621621621,
           8.694444444444445,
           748.9561128526645,
           181
          ],
          [
           5.631578947368421,
           4.416666666666667,
           582.9532710280374,
           101
          ],
          [
           15.947368421052632,
           16.63157894736842,
           834.2887788778878,
           244
          ],
          [
           22.342105263157894,
           24.526315789473685,
           696.8433451118964,
           294
          ],
          [
           6.891891891891892,
           7.5,
           805.0666666666667,
           169
          ],
          [
           15.657894736842104,
           14.657894736842104,
           636.2050420168067,
           221
          ],
          [
           21.13157894736842,
           21.736842105263158,
           728.9564134495641,
           275
          ],
          [
           9.394736842105264,
           8.947368421052632,
           497.7871148459384,
           131
          ],
          [
           4.444444444444445,
           4.333333333333333,
           679.15,
           107
          ],
          [
           4.228571428571429,
           3.4571428571428573,
           814.4459459459459,
           113
          ],
          [
           23.31578947368421,
           24.026315789473685,
           902.4040632054176,
           256
          ],
          [
           50.44736842105263,
           52.76315789473684,
           633.2488262910798,
           307
          ],
          [
           55.421052631578945,
           53.86842105263158,
           600.0232668566002,
           319
          ],
          [
           2.823529411764706,
           2.3793103448275863,
           775.0520833333334,
           77
          ],
          [
           10.297297297297296,
           9.756756756756756,
           719.5564304461942,
           163
          ],
          [
           67.65789473684211,
           65.28947368421052,
           611.3870089459355,
           329
          ],
          [
           27.555555555555557,
           28.037037037037038,
           594.4879032258065,
           241
          ],
          [
           13.763157894736842,
           14.421052631578947,
           658.1816443594646,
           211
          ],
          [
           29.216216216216218,
           30.81081081081081,
           633.5291396854764,
           294
          ],
          [
           3.4838709677419355,
           3.735294117647059,
           752.8425925925926,
           108
          ],
          [
           28.236842105263158,
           26,
           716.0531220876048,
           292
          ],
          [
           9.756756756756756,
           9.973684210526315,
           802.5290858725762,
           178
          ],
          [
           19.105263157894736,
           20.86842105263158,
           748.3636363636364,
           273
          ],
          [
           18.026315789473685,
           20.105263157894736,
           1029.3489051094891,
           259
          ],
          [
           27.92105263157895,
           28.842105263157894,
           864.4297832233742,
           294
          ],
          [
           25.894736842105264,
           25.763157894736842,
           687.2815040650406,
           254
          ],
          [
           12.736842105263158,
           13.342105263157896,
           633.2623966942149,
           190
          ],
          [
           15.921052631578947,
           16.92105263157895,
           636.2644628099174,
           235
          ],
          [
           28.21875,
           25.90625,
           667.6367663344407,
           298
          ],
          [
           27.833333333333332,
           29.833333333333332,
           753.1616766467066,
           298
          ],
          [
           6.394736842105263,
           6.7368421052631575,
           833.5637860082304,
           145
          ],
          [
           15.973684210526315,
           18.473684210526315,
           1112.2619439868204,
           251
          ],
          [
           16.210526315789473,
           16.94736842105263,
           786.1363636363636,
           256
          ],
          [
           23.763157894736842,
           24.44736842105263,
           664.5736434108527,
           266
          ],
          [
           12.307692307692308,
           14.615384615384615,
           787.3875,
           247
          ],
          [
           20.2,
           19.533333333333335,
           702.7722772277227,
           247
          ],
          [
           19.571428571428573,
           17.571428571428573,
           658.8613138686131,
           238
          ],
          [
           15.766666666666667,
           14.433333333333334,
           678.4566596194503,
           238
          ],
          [
           4.933333333333334,
           4.222222222222222,
           664.0878378378378,
           99
          ],
          [
           16.105263157894736,
           15.342105263157896,
           724.3611111111111,
           276
          ],
          [
           11.842105263157896,
           16.57894736842105,
           556.9355555555555,
           177
          ],
          [
           22.42105263157895,
           21.89189189189189,
           666.4964788732394,
           270
          ],
          [
           27.842105263157894,
           27.94736842105263,
           668.2221172022685,
           293
          ],
          [
           41.94736842105263,
           41.6578947368421,
           859.0319949811794,
           290
          ],
          [
           20.57894736842105,
           20.289473684210527,
           765.8465473145781,
           240
          ],
          [
           15.263157894736842,
           15.131578947368421,
           752.9741379310345,
           248
          ],
          [
           8.324324324324325,
           7.342105263157895,
           741.4577922077922,
           152
          ],
          [
           9.685714285714285,
           9.473684210526315,
           1021.2713864306785,
           186
          ],
          [
           33.5,
           31.31578947368421,
           599.1893165750197,
           260
          ],
          [
           25.94736842105263,
           27,
           610.8012170385396,
           284
          ],
          [
           27.026315789473685,
           26.342105263157894,
           669.5043816942551,
           274
          ],
          [
           4.888888888888889,
           4.9714285714285715,
           923.2045454545455,
           142
          ],
          [
           11.263157894736842,
           10.473684210526315,
           717.9299065420561,
           176
          ],
          [
           9.378378378378379,
           9.486486486486486,
           809.4149855907781,
           159
          ],
          [
           10.68421052631579,
           11.631578947368421,
           801.1330049261084,
           191
          ],
          [
           2.967741935483871,
           3.3636363636363638,
           815.9782608695652,
           87
          ],
          [
           3.473684210526316,
           4.837837837837838,
           707.2651515151515,
           93
          ],
          [
           23.526315789473685,
           24.55263157894737,
           691.67225950783,
           247
          ],
          [
           37,
           43,
           778.3166023166024,
           300
          ],
          [
           35.59090909090909,
           33.91304347826087,
           770.2158365261813,
           300
          ],
          [
           13.382352941176471,
           12.294117647058824,
           816.5560439560439,
           235
          ],
          [
           15.594594594594595,
           16.342105263157894,
           725.1958405545927,
           240
          ],
          [
           23.526315789473685,
           26.736842105263158,
           751.6096196868009,
           268
          ],
          [
           4.162162162162162,
           4.648648648648648,
           721.422077922078,
           102
          ],
          [
           5.1891891891891895,
           4.837837837837838,
           734.203125,
           110
          ],
          [
           19.81578947368421,
           20.31578947368421,
           722.2164674634794,
           248
          ],
          [
           13.368421052631579,
           12.68421052631579,
           778.4685039370079,
           216
          ],
          [
           44.18421052631579,
           44.55263157894737,
           736.2179868969624,
           290
          ],
          [
           32,
           33.63157894736842,
           683.828947368421,
           282
          ],
          [
           14.210526315789474,
           15,
           802.5814814814814,
           225
          ],
          [
           24.44736842105263,
           25.157894736842106,
           701.4273412271259,
           275
          ],
          [
           16.236842105263158,
           13.526315789473685,
           650.677471636953,
           228
          ],
          [
           24.263157894736842,
           25.263157894736842,
           879.58568329718,
           247
          ],
          [
           4.315789473684211,
           3.8333333333333335,
           647.0365853658536,
           94
          ],
          [
           11.052631578947368,
           11.263157894736842,
           604.0547619047619,
           158
          ],
          [
           17.07894736842105,
           17.026315789473685,
           767.648690292758,
           247
          ],
          [
           46.73684210526316,
           47.44736842105263,
           689.6914414414415,
           317
          ],
          [
           17.842105263157894,
           19.36842105263158,
           635.2610619469026,
           241
          ],
          [
           2.1724137931034484,
           2.310344827586207,
           841.3333333333334,
           76
          ],
          [
           4.117647058823529,
           4.4411764705882355,
           1047.192857142857,
           112
          ],
          [
           14.368421052631579,
           14.972972972972974,
           789.4010989010989,
           229
          ],
          [
           15.447368421052632,
           16.210526315789473,
           788.3935264054514,
           247
          ],
          [
           43.44736842105263,
           41.89473684210526,
           609.9939430648092,
           287
          ],
          [
           35.13157894736842,
           36.44736842105263,
           630.0666666666667,
           271
          ],
          [
           25,
           24.289473684210527,
           613.6494736842105,
           264
          ],
          [
           15.342105263157896,
           15.026315789473685,
           782.9193825042881,
           244
          ],
          [
           14.131578947368421,
           14.105263157894736,
           837.8677839851024,
           263
          ],
          [
           24.763157894736842,
           21.68421052631579,
           700.9936238044634,
           261
          ],
          [
           27.86842105263158,
           28.105263157894736,
           733.9348441926346,
           268
          ],
          [
           5.5,
           5.771428571428571,
           673.0143540669857,
           131
          ],
          [
           11.421052631578947,
           10.105263157894736,
           575.721198156682,
           191
          ],
          [
           7.388888888888889,
           6.771428571428571,
           959.6616541353384,
           190
          ],
          [
           13.631578947368421,
           13.631578947368421,
           763.8281853281853,
           217
          ],
          [
           22.54054054054054,
           21.72972972972973,
           748.2086330935252,
           261
          ],
          [
           5.333333333333333,
           5.3428571428571425,
           1027.03125,
           152
          ],
          [
           4.470588235294118,
           4.411764705882353,
           835.7236842105264,
           114
          ],
          [
           6.294117647058823,
           6.918918918918919,
           1127.6915887850466,
           133
          ],
          [
           4.702702702702703,
           3.2,
           578.3735632183908,
           99
          ],
          [
           5.657894736842105,
           6.648648648648648,
           747.7767441860465,
           168
          ],
          [
           28.605263157894736,
           25.657894736842106,
           679.1159153633855,
           296
          ],
          [
           23.0625,
           21.65625,
           627.6775067750677,
           255
          ],
          [
           25.416666666666668,
           27.02777777777778,
           757.1027322404371,
           251
          ],
          [
           9.157894736842104,
           8.131578947368421,
           703.25,
           151
          ],
          [
           8.263157894736842,
           9,
           772.6305732484077,
           157
          ],
          [
           26.63157894736842,
           27.789473684210527,
           738.6521739130435,
           285
          ],
          [
           10.105263157894736,
           10.842105263157896,
           852.859375,
           189
          ],
          [
           15.921052631578947,
           16.763157894736842,
           792.3338842975206,
           280
          ],
          [
           15.447368421052632,
           19.63157894736842,
           915.8057921635434,
           238
          ],
          [
           6.315789473684211,
           6.552631578947368,
           670.5583333333333,
           139
          ],
          [
           35.60526315789474,
           33.94736842105263,
           737.5920177383592,
           297
          ],
          [
           5.114285714285714,
           4.942857142857143,
           652.4078212290502,
           114
          ],
          [
           3.6666666666666665,
           3.3142857142857145,
           649.9166666666666,
           106
          ],
          [
           5.1891891891891895,
           3.9473684210526314,
           647.3854166666666,
           112
          ],
          [
           3.5428571428571427,
           3.611111111111111,
           647.0645161290323,
           81
          ],
          [
           15.368421052631579,
           16.31578947368421,
           968.0924657534247,
           241
          ],
          [
           13.666666666666666,
           12.72972972972973,
           687.7317073170732,
           226
          ],
          [
           50.71052631578947,
           47.71052631578947,
           951.901401141671,
           310
          ],
          [
           12.571428571428571,
           11.964285714285714,
           1174.065340909091,
           214
          ],
          [
           12.7,
           11.88888888888889,
           1108.5905511811025,
           214
          ],
          [
           28.42105263157895,
           28.86842105263158,
           618.574074074074,
           291
          ],
          [
           33.78947368421053,
           34.8421052631579,
           672.082554517134,
           298
          ],
          [
           25.86842105263158,
           26.105263157894736,
           710.6215666327569,
           269
          ],
          [
           64.65789473684211,
           66.21052631578948,
           606.5567765567765,
           319
          ],
          [
           2.823529411764706,
           3.2580645161290325,
           890.8958333333334,
           94
          ],
          [
           5.181818181818182,
           4.878787878787879,
           787.6140350877193,
           95
          ],
          [
           22.63157894736842,
           24.605263157894736,
           722.6872093023255,
           277
          ],
          [
           27.135135135135137,
           28.216216216216218,
           682.9203187250996,
           287
          ],
          [
           18.026315789473685,
           17.94736842105263,
           693.8350364963503,
           241
          ],
          [
           35.32432432432432,
           35.45945945945946,
           626.8033664881408,
           284
          ],
          [
           2.9,
           1.75,
           706.551724137931,
           72
          ],
          [
           2.533333333333333,
           2.2,
           957,
           72
          ],
          [
           34.71052631578947,
           35.36842105263158,
           708.1622441243367,
           285
          ],
          [
           39.68421052631579,
           37.973684210526315,
           589.1120689655172,
           277
          ],
          [
           26.31578947368421,
           24.789473684210527,
           670.778,
           256
          ],
          [
           25.86842105263158,
           27.157894736842106,
           718.792472024415,
           247
          ],
          [
           30.18918918918919,
           28.35135135135135,
           703.3178155774395,
           265
          ],
          [
           33.078947368421055,
           35.36842105263158,
           643.6921241050119,
           268
          ],
          [
           13.157894736842104,
           13.026315789473685,
           793.126,
           241
          ],
          [
           18,
           17.92105263157895,
           782.2836257309941,
           267
          ],
          [
           14.026315789473685,
           15.842105263157896,
           710.170731707317,
           226
          ],
          [
           31.342105263157894,
           28.973684210526315,
           810.896725440806,
           279
          ],
          [
           27.92105263157895,
           28,
           743.7097078228087,
           284
          ],
          [
           8.18421052631579,
           8.742857142857142,
           813.903536977492,
           193
          ],
          [
           30.18421052631579,
           31.763157894736842,
           680.0732345248474,
           287
          ],
          [
           36.94736842105263,
           38.921052631578945,
           686.9907407407408,
           281
          ],
          [
           13.884615384615385,
           13.692307692307692,
           971.5401662049861,
           180
          ],
          [
           31.894736842105264,
           27.657894736842106,
           619.0041254125413,
           273
          ],
          [
           35.73684210526316,
           33.76315789473684,
           637.0589101620029,
           300
          ],
          [
           24.842105263157894,
           23.18421052631579,
           715.9226694915254,
           272
          ],
          [
           20.31578947368421,
           17.289473684210527,
           630.2733160621761,
           235
          ],
          [
           25.44736842105263,
           28.05263157894737,
           615.7724922440538,
           250
          ],
          [
           7.6571428571428575,
           8.277777777777779,
           1050.0559701492537,
           225
          ],
          [
           37.6578947368421,
           37.76315789473684,
           597.2536687631027,
           293
          ],
          [
           17.263157894736842,
           18.18421052631579,
           727.8018292682926,
           286
          ],
          [
           29.31578947368421,
           28.5,
           616.0780969479354,
           285
          ],
          [
           27.973684210526315,
           29.63157894736842,
           651.304797742239,
           282
          ],
          [
           47.68421052631579,
           53,
           730.6258278145696,
           306
          ],
          [
           23.736842105263158,
           25.63157894736842,
           809.2871396895787,
           253
          ],
          [
           31.42105263157895,
           30.710526315789473,
           736.678391959799,
           262
          ],
          [
           18.789473684210527,
           20.36842105263158,
           809.7619047619048,
           227
          ],
          [
           6.888888888888889,
           6.6571428571428575,
           864.2177419354839,
           183
          ],
          [
           32.78947368421053,
           32.68421052631579,
           638.4526484751204,
           266
          ],
          [
           35.526315789473685,
           34.39473684210526,
           600.8718518518518,
           293
          ],
          [
           23.973684210526315,
           26.105263157894736,
           700.2755214050494,
           269
          ],
          [
           20.105263157894736,
           19.236842105263158,
           638.7997382198953,
           259
          ],
          [
           28.31578947368421,
           28.5,
           640.135687732342,
           293
          ],
          [
           24.264705882352942,
           27.147058823529413,
           659.0109090909091,
           234
          ],
          [
           51.71052631578947,
           45.973684210526315,
           677.1923664122137,
           290
          ],
          [
           35.63157894736842,
           34.94736842105263,
           615.9579025110783,
           274
          ],
          [
           22.394736842105264,
           22.763157894736842,
           746.9283196239718,
           251
          ],
          [
           34.26315789473684,
           32.1578947368421,
           659.7127496159754,
           294
          ],
          [
           66.21052631578948,
           70.94736842105263,
           663.0890302066773,
           329
          ],
          [
           22.42105263157895,
           19.342105263157894,
           636.456572769953,
           243
          ],
          [
           21.44736842105263,
           19.973684210526315,
           932.8036809815951,
           251
          ],
          [
           17.555555555555557,
           16.75,
           684.8528481012659,
           213
          ],
          [
           25.62162162162162,
           25.2972972972973,
           617.8238396624473,
           295
          ],
          [
           39.583333333333336,
           39.138888888888886,
           630.1445614035088,
           296
          ],
          [
           59,
           51,
           604.1525423728814,
           296
          ],
          [
           33.36842105263158,
           35.55263157894737,
           642.0922712933753,
           289
          ],
          [
           32.26315789473684,
           31.63157894736842,
           688.9649265905383,
           290
          ],
          [
           19.13888888888889,
           19.81081081081081,
           921.6835994194485,
           240
          ],
          [
           34.5,
           38.60526315789474,
           661.3478260869565,
           278
          ],
          [
           21.789473684210527,
           24.105263157894736,
           656.31038647343,
           241
          ],
          [
           31.105263157894736,
           28.63157894736842,
           752.7927241962775,
           278
          ],
          [
           21.21875,
           19.5,
           660.4020618556701,
           218
          ],
          [
           16.157894736842106,
           17.42105263157895,
           773.3322475570033,
           220
          ],
          [
           27.394736842105264,
           31.55263157894737,
           1050.7156580211335,
           277
          ],
          [
           28.94736842105263,
           29.31578947368421,
           730.02,
           251
          ],
          [
           9.105263157894736,
           10.105263157894736,
           794.7630057803468,
           211
          ],
          [
           17.13157894736842,
           16.36842105263158,
           709.9615975422427,
           232
          ],
          [
           12.552631578947368,
           12.285714285714286,
           910.5366876310272,
           215
          ],
          [
           25.342105263157894,
           23.94736842105263,
           611.1848390446521,
           273
          ],
          [
           33.473684210526315,
           32.973684210526315,
           686.7193396226415,
           297
          ],
          [
           32.8421052631579,
           29.236842105263158,
           673.8830128205128,
           272
          ],
          [
           22.857142857142858,
           20.266666666666666,
           1049.0984375,
           240
          ],
          [
           25.289473684210527,
           28.42105263157895,
           671.5983350676379,
           291
          ],
          [
           13.605263157894736,
           12.131578947368421,
           1130.7292069632495,
           287
          ],
          [
           29.473684210526315,
           29.026315789473685,
           720.1276785714285,
           281
          ],
          [
           39.578947368421055,
           41.5,
           641.188164893617,
           298
          ],
          [
           12.135135135135135,
           11.81578947368421,
           949.739420935412,
           263
          ],
          [
           32.63157894736842,
           35.31578947368421,
           649.5532258064516,
           283
          ],
          [
           35.92307692307692,
           32.38461538461539,
           656.152034261242,
           283
          ],
          [
           30.05263157894737,
           30.92105263157895,
           765.8318739054291,
           278
          ],
          [
           30.57894736842105,
           29.92105263157895,
           622.1514629948365,
           284
          ],
          [
           12.837837837837839,
           13.921052631578947,
           1010.32,
           260
          ],
          [
           26.705882352941178,
           26.5,
           688.5726872246696,
           269
          ],
          [
           15.405405405405405,
           14.972972972972974,
           1093.061403508772,
           241
          ],
          [
           16.86842105263158,
           18.236842105263158,
           982.5070202808113,
           225
          ],
          [
           10.68421052631579,
           11.736842105263158,
           705.7019704433498,
           172
          ],
          [
           17.18421052631579,
           19.973684210526315,
           755.5375191424196,
           272
          ],
          [
           18.68421052631579,
           19.157894736842106,
           707.7,
           258
          ],
          [
           10.447368421052632,
           10.342105263157896,
           829.3853904282116,
           226
          ],
          [
           22.394736842105264,
           20.52777777777778,
           698.3572267920094,
           264
          ],
          [
           11.791666666666666,
           13.291666666666666,
           998.7526501766785,
           227
          ],
          [
           11.428571428571429,
           8.714285714285714,
           1042.6,
           227
          ],
          [
           20,
           18.5,
           879.475,
           115
          ],
          [
           2,
           3,
           1895,
           115
          ],
          [
           2.4545454545454546,
           1.8,
           1180.2962962962963,
           30
          ],
          [
           3.1666666666666665,
           4.090909090909091,
           900.3947368421053,
           34
          ],
          [
           1.5,
           1.625,
           797.8333333333334,
           18
          ],
          [
           2.142857142857143,
           2.1,
           1167.0666666666666,
           27
          ],
          [
           2.4166666666666665,
           2.6666666666666665,
           984.5862068965517,
           39
          ],
          [
           3.5833333333333335,
           2.1666666666666665,
           752.1395348837209,
           37
          ],
          [
           2.5714285714285716,
           2.3333333333333335,
           565.8333333333334,
           22
          ],
          [
           3.25,
           3.1818181818181817,
           804.9615384615385,
           45
          ],
          [
           3.3846153846153846,
           2.272727272727273,
           806.3409090909091,
           41
          ],
          [
           5.545454545454546,
           3.727272727272727,
           637.639344262295,
           46
          ],
          [
           2,
           1.8571428571428572,
           715.3125,
           25
          ],
          [
           2.272727272727273,
           1.7272727272727273,
           732.76,
           28
          ],
          [
           2.3636363636363638,
           3.2222222222222223,
           716.3461538461538,
           35
          ],
          [
           3.272727272727273,
           2.0833333333333335,
           544.7777777777778,
           40
          ],
          [
           3.5,
           3.272727272727273,
           806.4285714285714,
           47
          ],
          [
           2.909090909090909,
           2.7777777777777777,
           688.1875,
           39
          ],
          [
           1.1666666666666667,
           2.142857142857143,
           941.8571428571429,
           16
          ],
          [
           2.4545454545454546,
           2.2,
           791.3703703703703,
           35
          ],
          [
           1,
           1.3333333333333333,
           835,
           17
          ],
          [
           2.3076923076923075,
           1.9090909090909092,
           576.2333333333333,
           31
          ],
          [
           2.25,
           3,
           520.5555555555555,
           37
          ],
          [
           5,
           6.461538461538462,
           887.3,
           72
          ],
          [
           1.8888888888888888,
           1.8,
           614.4117647058823,
           29
          ],
          [
           2.727272727272727,
           2.6363636363636362,
           820.9,
           43
          ],
          [
           2.5,
           3.25,
           902.0666666666667,
           47
          ],
          [
           4,
           3,
           889.0833333333334,
           55
          ],
          [
           2.3,
           1.8333333333333333,
           679.4347826086956,
           25
          ],
          [
           2.5,
           2.5454545454545454,
           872.12,
           40
          ],
          [
           2.25,
           3.5,
           712.9629629629629,
           49
          ],
          [
           2.75,
           2.6666666666666665,
           680.1515151515151,
           45
          ],
          [
           6.416666666666667,
           7,
           881.5844155844156,
           88
          ],
          [
           1.6363636363636365,
           1.5714285714285714,
           593.2222222222222,
           22
          ],
          [
           4.8,
           3.3636363636363638,
           651.75,
           49
          ],
          [
           6.846153846153846,
           5.153846153846154,
           676.1685393258427,
           77
          ],
          [
           5.1,
           5,
           579.9215686274509,
           47
          ],
          [
           3,
           4.083333333333333,
           688.2777777777778,
           48
          ],
          [
           5.166666666666667,
           4,
           768.6774193548387,
           68
          ],
          [
           9,
           7,
           747.7474747474747,
           89
          ],
          [
           4.181818181818182,
           5.083333333333333,
           910.0869565217391,
           71
          ],
          [
           4.454545454545454,
           6,
           638.9591836734694,
           73
          ],
          [
           9.538461538461538,
           9.23076923076923,
           547.508064516129,
           83
          ],
          [
           8.461538461538462,
           9.461538461538462,
           502.6636363636364,
           91
          ],
          [
           3.75,
           4.916666666666667,
           778.0222222222222,
           64
          ],
          [
           11.384615384615385,
           11.76923076923077,
           567.6216216216217,
           95
          ],
          [
           18.076923076923077,
           19.53846153846154,
           490.72340425531917,
           112
          ],
          [
           4.076923076923077,
           3.75,
           674.2452830188679,
           58
          ],
          [
           3.076923076923077,
           2.6666666666666665,
           705.725,
           43
          ],
          [
           7,
           8,
           617.4571428571429,
           65
          ],
          [
           8.4,
           6,
           539.047619047619,
           46
          ],
          [
           7.3076923076923075,
           6.333333333333333,
           591.9894736842106,
           77
          ],
          [
           7.25,
           6.916666666666667,
           658.8850574712644,
           71
          ],
          [
           3,
           2.4166666666666665,
           726.0277777777778,
           39
          ],
          [
           6.923076923076923,
           7.6923076923076925,
           618.1111111111111,
           54
          ],
          [
           11.923076923076923,
           13,
           609.5741935483871,
           100
          ],
          [
           8.076923076923077,
           9.307692307692308,
           709.7238095238096,
           71
          ],
          [
           6.153846153846154,
           6.6923076923076925,
           584.1875,
           60
          ],
          [
           8.307692307692308,
           7.615384615384615,
           569.5,
           65
          ],
          [
           11.615384615384615,
           13.538461538461538,
           698.4105960264901,
           97
          ],
          [
           8.916666666666666,
           6.6923076923076925,
           670.4018691588785,
           71
          ],
          [
           7.153846153846154,
           7.769230769230769,
           806.8387096774194,
           75
          ],
          [
           7.333333333333333,
           4.909090909090909,
           541.5151515151515,
           57
          ],
          [
           5.75,
           5.461538461538462,
           588.1739130434783,
           45
          ],
          [
           6,
           5.538461538461538,
           769.2083333333334,
           60
          ],
          [
           12.846153846153847,
           12.76923076923077,
           567.8802395209581,
           65
          ],
          [
           2.8461538461538463,
           3.3846153846153846,
           930.5135135135135,
           44
          ],
          [
           3.7777777777777777,
           4.111111111111111,
           700.4117647058823,
           33
          ],
          [
           1.8181818181818181,
           1.8,
           1243.05,
           26
          ],
          [
           8.384615384615385,
           10,
           422.1559633027523,
           40
          ],
          [
           5.923076923076923,
           6.538461538461538,
           747.3376623376623,
           51
          ],
          [
           6.076923076923077,
           6.3076923076923075,
           985.9113924050633,
           69
          ],
          [
           2.4,
           2.5714285714285716,
           577.1666666666666,
           16
          ],
          [
           1.2857142857142858,
           1.6666666666666667,
           1098.111111111111,
           14
          ],
          [
           10.76923076923077,
           9.76923076923077,
           1037.5714285714287,
           122
          ],
          [
           7.8,
           7.8,
           725.4102564102565,
           53
          ],
          [
           14.083333333333334,
           13.916666666666666,
           730.4378698224853,
           137
          ],
          [
           13.75,
           13.416666666666666,
           652.660606060606,
           123
          ],
          [
           15,
           16.5,
           950.9888888888889,
           143
          ],
          [
           8.4,
           9.3,
           782.75,
           90
          ],
          [
           12.416666666666666,
           14.909090909090908,
           910.0536912751678,
           116
          ],
          [
           13.416666666666666,
           11.25,
           860.1180124223603,
           117
          ],
          [
           24.916666666666668,
           27.083333333333332,
           801.1070234113712,
           170
          ],
          [
           42.666666666666664,
           41.333333333333336,
           820.140625,
           213
          ],
          [
           27.166666666666668,
           23.5,
           738.4417177914111,
           192
          ],
          [
           12.727272727272727,
           10.090909090909092,
           1003.6071428571429,
           120
          ],
          [
           5.916666666666667,
           4,
           962.5633802816901,
           75
          ],
          [
           23.416666666666668,
           18.583333333333332,
           1001.3238434163701,
           154
          ],
          [
           8.25,
           7.833333333333333,
           948.3030303030303,
           98
          ],
          [
           24.916666666666668,
           24,
           927.8160535117057,
           173
          ],
          [
           13,
           13.5,
           962.8910256410256,
           115
          ],
          [
           13.8,
           12,
           867.7028985507246,
           94
          ],
          [
           10,
           8,
           923.8666666666667,
           42
          ],
          [
           11.4,
           10.4,
           626.7631578947369,
           89
          ],
          [
           26.666666666666668,
           24.916666666666668,
           928.85625,
           162
          ],
          [
           5.454545454545454,
           6.8,
           1154.65,
           65
          ],
          [
           21.23076923076923,
           19.5,
           759.2463768115942,
           176
          ],
          [
           21.333333333333332,
           21.75,
           756.97265625,
           147
          ],
          [
           11,
           8,
           858.2424242424242,
           97
          ],
          [
           12.727272727272727,
           10.818181818181818,
           876.5357142857143,
           104
          ],
          [
           16.166666666666668,
           12.083333333333334,
           809.2731958762887,
           140
          ],
          [
           26.25,
           22.166666666666668,
           838.2380952380952,
           158
          ],
          [
           14.416666666666666,
           14,
           826.7572254335261,
           117
          ],
          [
           11.5,
           11.666666666666666,
           1134.6376811594203,
           138
          ],
          [
           23.75,
           21.833333333333332,
           753.1157894736842,
           150
          ],
          [
           13.75,
           13.083333333333334,
           1315.430303030303,
           136
          ],
          [
           15.916666666666666,
           14.5,
           891.7591623036649,
           124
          ],
          [
           15.545454545454545,
           15.909090909090908,
           946.5204678362574,
           128
          ],
          [
           10.583333333333334,
           11,
           788.6299212598425,
           112
          ],
          [
           17.272727272727273,
           16.636363636363637,
           1083.1526315789474,
           140
          ],
          [
           20.5,
           18.166666666666668,
           721.959349593496,
           140
          ],
          [
           24.166666666666668,
           20.75,
           1062.1310344827587,
           166
          ],
          [
           10.416666666666666,
           10.363636363636363,
           1250.112,
           115
          ],
          [
           1.5714285714285714,
           1.7142857142857142,
           906.2727272727273,
           20
          ],
          [
           3.3333333333333335,
           2.8,
           964.3,
           32
          ],
          [
           11.090909090909092,
           9.636363636363637,
           815.2213114754098,
           97
          ],
          [
           13.166666666666666,
           13.333333333333334,
           861.6772151898734,
           136
          ],
          [
           25.818181818181817,
           30.363636363636363,
           677.0845070422536,
           174
          ],
          [
           20.25,
           6,
           695.5555555555555,
           160
          ],
          [
           42.5,
           15.833333333333334,
           737.1333333333333,
           160
          ],
          [
           8.444444444444445,
           9.333333333333334,
           804.8552631578947,
           91
          ],
          [
           3.6666666666666665,
           3,
           907.2272727272727,
           24
          ],
          [
           8.714285714285714,
           8.833333333333334,
           758.983606557377,
           73
          ],
          [
           24.125,
           28,
           618.880829015544,
           163
          ],
          [
           10,
           9.5,
           698.45,
           58
          ],
          [
           2.75,
           2.25,
           952.9090909090909,
           19
          ],
          [
           5,
           2.6666666666666665,
           1200,
           2
          ],
          [
           50.75,
           50.75,
           804.0985221674877,
           185
          ],
          [
           25.666666666666668,
           29.666666666666668,
           928.7792207792207,
           101
          ],
          [
           28.333333333333332,
           25.333333333333332,
           674.9411764705883,
           99
          ],
          [
           82,
           76,
           649.7865853658536,
           146
          ],
          [
           8,
           8,
           915.75,
           17
          ],
          [
           8,
           20,
           632.5,
           22
          ],
          [
           11,
           13,
           870.5454545454545,
           23
          ],
          [
           14,
           11,
           884.5714285714286,
           23
          ],
          [
           14,
           13,
           1033.9285714285713,
           26
          ],
          [
           4,
           16,
           419.75,
           17
          ],
          [
           3,
           2,
           481.6666666666667,
           6
          ],
          [
           5,
           1,
           827.4,
           7
          ],
          [
           6,
           4,
           566.1666666666666,
           11
          ],
          [
           2,
           1,
           209.5,
           4
          ],
          [
           18,
           16,
           1167.5,
           28
          ],
          [
           1,
           2,
           433,
           4
          ],
          [
           6,
           1,
           1060.6666666666667,
           8
          ],
          [
           9,
           7,
           1488.4444444444443,
           15
          ],
          [
           2,
           2,
           1458,
           5
          ],
          [
           9,
           5,
           1339.7777777777778,
           14
          ],
          [
           2,
           1,
           256.5,
           2
          ],
          [
           1,
           1,
           422,
           3
          ],
          [
           1,
           2,
           2230,
           4
          ],
          [
           4,
           9,
           670.75,
           13
          ],
          [
           1,
           0,
           693,
           2
          ],
          [
           15,
           12,
           980.8,
           25
          ],
          [
           4,
           2,
           1227.75,
           5
          ],
          [
           2,
           8,
           1548.5,
           10
          ],
          [
           8,
           7,
           852.5,
           15
          ],
          [
           8,
           7,
           1809.125,
           12
          ],
          [
           2,
           1,
           1414.5,
           2
          ],
          [
           2,
           5,
           631.5,
           8
          ],
          [
           11,
           8,
           1109.1818181818182,
           20
          ],
          [
           3,
           2,
           850.3333333333334,
           5
          ],
          [
           3,
           7,
           983.6666666666666,
           10
          ],
          [
           4,
           3,
           733.5,
           7
          ],
          [
           6,
           12,
           1355.5,
           15
          ],
          [
           6,
           2,
           570.1666666666666,
           8
          ],
          [
           3,
           5,
           1392,
           9
          ],
          [
           1,
           3,
           917,
           5
          ],
          [
           4,
           3,
           1835.75,
           7
          ],
          [
           4,
           4,
           1176.25,
           9
          ],
          [
           5,
           2,
           635,
           8
          ],
          [
           2,
           3,
           502,
           6
          ],
          [
           4,
           4,
           1829.75,
           9
          ],
          [
           1,
           0,
           942,
           2
          ],
          [
           3,
           1,
           909.3333333333334,
           5
          ],
          [
           1,
           3,
           574,
           5
          ],
          [
           2,
           3,
           1121.5,
           4
          ],
          [
           1,
           1,
           1218,
           null
          ],
          [
           1,
           1,
           821,
           3
          ],
          [
           2,
           6,
           1287,
           6
          ],
          [
           2,
           3,
           1287.5,
           6
          ],
          [
           4,
           9,
           1334.75,
           14
          ],
          [
           3,
           0,
           1338.3333333333333,
           4
          ],
          [
           3,
           2,
           539,
           6
          ],
          [
           1,
           0,
           539,
           2
          ],
          [
           2,
           1,
           737.5,
           4
          ],
          [
           0,
           1,
           0,
           3
          ],
          [
           0,
           2,
           0,
           3
          ],
          [
           0,
           1,
           0,
           2
          ],
          [
           0,
           1,
           0,
           2
          ],
          [
           0,
           3,
           0,
           4
          ],
          [
           0,
           1,
           0,
           2
          ],
          [
           0,
           2,
           0,
           3
          ],
          [
           0,
           2,
           0,
           3
          ],
          [
           0,
           2,
           0,
           3
          ],
          [
           0,
           1,
           0,
           2
          ],
          [
           0,
           3,
           0,
           4
          ]
         ],
         "hovertemplate": "perf_score=%{marker.color}<br>latitude=%{lat}<br>longitude=%{lon}<br>start_count=%{customdata[0]}<br>end_count=%{customdata[1]}<br>tripduration=%{customdata[2]}<br>connections=%{customdata[3]}<extra></extra>",
         "lat": [
          40.76727216,
          40.71911552,
          40.71117416,
          40.68382604,
          40.74177603,
          40.69608941,
          40.68676793,
          40.73172428,
          40.72710258,
          40.69239502,
          40.69839895,
          40.71625008,
          40.7208736,
          40.72210379,
          40.71473993,
          40.75206231,
          40.69089272,
          40.72917025,
          40.75323098,
          40.73971301,
          40.7381765,
          40.70905623,
          40.74334935,
          40.70037867,
          40.70277159,
          40.73781509,
          40.71146364,
          40.7546011,
          40.72743423,
          40.69597683,
          40.7284186,
          40.7361967,
          40.69196566,
          40.68981035,
          40.697787,
          40.697787,
          40.69196035,
          40.69327018,
          40.73535398,
          40.72185379,
          40.71870987,
          40.72456089,
          40.72456089,
          40.72317958,
          40.73226398,
          40.73532427,
          40.71939226,
          40.68940747,
          40.70122128,
          40.70365182,
          40.69474881,
          40.6917823,
          40.70706456,
          40.72229346,
          40.72368361,
          40.75097711,
          40.71910537,
          40.69308257,
          40.68650065,
          40.69766564,
          40.7643971,
          40.73901691,
          40.73454567,
          40.6845683,
          40.713126,
          40.73020661,
          40.73049393,
          40.71406667,
          40.734232,
          40.68683208,
          40.72217444,
          40.72082834,
          40.72362738,
          40.70463334,
          40.76095756,
          40.71427487,
          40.71307916,
          40.7172274,
          40.722055,
          40.722055,
          40.69610226,
          40.70355377,
          40.70960089,
          40.72453734,
          40.711066,
          40.711066,
          40.717571,
          40.717571,
          40.69991755,
          40.69236178,
          40.689888,
          40.73624527,
          40.72953837,
          40.7153379,
          40.72405549,
          40.71450451,
          40.71173107,
          40.71219906,
          40.74238787,
          40.72903917,
          40.73047747,
          40.72580614,
          40.71269042,
          40.71782143,
          40.71739973,
          40.69794,
          40.6851443,
          40.73652889,
          40.728846,
          40.728846,
          40.71850211,
          40.71559509,
          40.76340613,
          40.68539567,
          40.69363137,
          40.71602118,
          40.71622644,
          40.73291553,
          40.75510267,
          40.70717936,
          40.71605866,
          40.75172632,
          40.70834698,
          40.68900443,
          40.693261,
          40.75828065,
          40.73038599,
          40.73224119,
          40.69454609,
          40.69331716,
          40.70862144,
          40.72243797,
          40.749156,
          40.73401143,
          40.735238,
          40.75797322,
          40.71494807,
          40.71273266,
          40.74971775,
          40.69221589,
          40.69760127,
          40.695065,
          40.72299208,
          40.72521311,
          40.68034242,
          40.68415748,
          40.69165183,
          40.68851534,
          40.71926081,
          40.72019576,
          40.72502876,
          40.739323,
          40.69512845,
          40.71076228,
          40.72066442,
          40.72228087,
          40.7158155,
          40.7047177,
          40.68753406,
          40.71291224,
          40.70224,
          40.69580705,
          40.68764484,
          40.69573398,
          40.770513,
          40.76584941,
          40.71754834,
          40.701907,
          40.701907,
          40.72467721,
          40.72621788,
          40.74317449,
          40.74173969,
          40.68216564,
          40.68098339,
          40.72779126,
          40.7262807,
          40.75255434,
          40.746647,
          40.70853074,
          40.70853074,
          40.72740794,
          40.74487634,
          40.76370739,
          40.75660359,
          40.76227205,
          40.74475148,
          40.75455731,
          40.75001986,
          40.7597108,
          40.76695317,
          40.751396,
          40.71285887,
          40.73587678,
          40.74691959,
          40.75934501,
          40.75513557,
          40.74395411,
          40.7652654,
          40.76344058,
          40.74345335,
          40.71286844,
          40.7457121,
          40.72110063,
          40.7451677,
          40.74394314,
          40.75640548,
          40.76030096,
          40.76019252,
          40.76669671,
          40.71260486,
          40.73935542,
          40.73223272,
          40.75500254,
          40.75038009,
          40.7462009,
          40.75066386,
          40.751551,
          40.74734825,
          40.76269882,
          40.73726186,
          40.73704984,
          40.76228826,
          40.744219,
          40.714211,
          40.73827428,
          40.73221853,
          40.73221853,
          40.74901271,
          40.73912601,
          40.76341379,
          40.7454973,
          40.7606597,
          40.72938685,
          40.7500727,
          40.768254,
          40.76087502,
          40.76009437,
          40.75206862,
          40.75714758,
          40.75594159,
          40.74765947,
          40.74290902,
          40.7575699,
          40.77149671,
          40.71893904,
          40.710451,
          40.74144387,
          40.74025878,
          40.71534825,
          40.74311555,
          40.74311555,
          40.736502,
          40.74444921,
          40.716887,
          40.73381219,
          40.76590936,
          40.70569254,
          40.71117444,
          40.72170005,
          40.739445,
          40.75022392,
          40.75929124,
          40.759107,
          40.759107,
          40.72036775,
          40.72036775,
          40.67890679,
          40.6794268,
          40.6814598,
          40.6800105,
          40.682601,
          40.6823687,
          40.68402,
          40.68488,
          40.6851532,
          40.686312,
          40.6900815,
          40.6894932,
          40.6883337,
          40.69072549,
          40.69128258,
          40.69237074,
          40.6933982,
          40.69425403,
          40.69622937,
          40.69539817,
          40.69527008,
          40.69681963,
          40.70029511,
          40.69957608,
          40.7016657,
          40.7031724,
          40.70411791,
          40.70510918,
          40.70538077,
          40.70583339,
          40.70767788,
          40.70708701,
          40.70870368,
          40.70877084,
          40.70924826,
          40.70934,
          40.711863,
          40.71167351,
          40.71247661,
          40.71469,
          40.715143,
          40.71413311,
          40.7160751,
          40.7190095,
          40.71745169,
          40.7169811,
          40.71929301,
          40.71924,
          40.72481256,
          40.72079821,
          40.72179134,
          40.724055,
          40.72325,
          40.72311651,
          40.72557,
          40.72606,
          40.72708584,
          40.72906,
          40.73026,
          40.73232194,
          40.73266,
          40.73564,
          40.73555,
          40.74232744,
          40.74524768,
          40.74436329,
          40.74469738,
          40.74731,
          40.74708586,
          40.74718234,
          40.74966,
          40.75052534,
          40.75110165,
          40.7671284,
          40.76350532,
          40.76312584,
          40.77112927,
          40.766368,
          40.77282817,
          40.77118288,
          40.77140426,
          40.76500525,
          40.7612274,
          40.77632142,
          40.77677702,
          40.77862688,
          40.77573034,
          40.77801203,
          40.77565541,
          40.7728384,
          40.76873687,
          40.77314236,
          40.76663814,
          40.77518615,
          40.77163851,
          40.77492513,
          40.77896784,
          40.78018397,
          40.7734066,
          40.7770575,
          40.77579377,
          40.78057799,
          40.77966809,
          40.78720869,
          40.78499979,
          40.78524672,
          40.7785669,
          40.77750703,
          40.77748046,
          40.7867947,
          40.78414472,
          40.698617,
          40.743,
          40.78275,
          40.7678008,
          40.75724568,
          40.75898481,
          40.75898481,
          40.7739139,
          40.686203,
          40.75892386,
          40.73143724,
          40.6942715,
          40.68035608,
          40.69231661,
          40.75058535,
          40.72771408,
          40.72706363,
          40.72951496,
          40.7814107,
          40.78839,
          40.7806284,
          40.789622,
          40.778301,
          40.79017948,
          40.7779453,
          40.7857851,
          40.7835016,
          40.6686627,
          40.7919557,
          40.7969347,
          40.6849894,
          40.78115276,
          40.6662078,
          40.7941654,
          40.6861758,
          40.7859201,
          40.663779,
          40.7817212,
          40.6663181,
          40.7937704,
          40.6831164,
          40.7981856,
          40.7849032,
          40.8013434,
          40.6747055,
          40.6772744,
          40.787801,
          40.6765304,
          40.7997568,
          40.78948542,
          40.7973721,
          40.7869946,
          40.8008363,
          40.7904828,
          40.8021174,
          40.7922553,
          40.6750705,
          40.7903051,
          40.804213,
          40.7934337,
          40.6830456,
          40.7892529,
          40.6812117,
          40.6794327,
          40.6746957,
          40.6849668,
          40.6793307,
          40.6776147,
          40.6792788,
          40.6802133,
          40.6859296,
          40.7892105,
          40.75325964,
          40.6847514,
          40.6686273,
          40.668603,
          40.7877214,
          40.6829151,
          40.6728155,
          40.6902375,
          40.6705135,
          40.6704836,
          40.6827549
         ],
         "legendgroup": "",
         "lon": [
          -73.99392888,
          -74.00666661,
          -74.00016545,
          -73.97632328,
          -74.00149746,
          -73.97803415,
          -73.95928168,
          -74.00674436,
          -74.00297088,
          -73.99337909,
          -73.98068914,
          -74.0091059,
          -73.98085795,
          -73.99724901,
          -74.00910627,
          -73.9816324,
          -73.99612349,
          -73.99810231,
          -73.97032517,
          -73.99456405,
          -73.97738662,
          -74.01043382,
          -74.00681753,
          -73.99548059,
          -73.99383605,
          -73.99994661,
          -74.00552427,
          -73.97187886,
          -73.99379025,
          -73.99014892,
          -73.98713956,
          -74.00859207,
          -73.9813018,
          -73.97493121,
          -73.973736,
          -73.973736,
          -73.96536851,
          -73.97703874,
          -74.00483091,
          -74.00771779,
          -74.0090009,
          -73.99565293,
          -73.99565293,
          -73.99480012,
          -73.99852205,
          -73.99800419,
          -74.00247214,
          -73.96885458,
          -74.01234218,
          -74.01167797,
          -73.98362464,
          -73.9737299,
          -74.00731853,
          -73.99147535,
          -73.97574813,
          -73.98765428,
          -73.99973337,
          -73.97178913,
          -73.96563307,
          -73.98476437,
          -73.97371465,
          -74.00263761,
          -73.99074142,
          -73.95881081,
          -73.984844,
          -73.99102628,
          -73.9957214,
          -73.99293911,
          -73.986923,
          -73.9796772,
          -73.98368779,
          -73.97793172,
          -73.99949601,
          -74.01361706,
          -73.96724467,
          -73.98990025,
          -73.99851193,
          -73.98802084,
          -73.989111,
          -73.989111,
          -73.96751037,
          -74.00670227,
          -74.00655091,
          -73.98185424,
          -74.009447,
          -74.009447,
          -74.005549,
          -74.005549,
          -73.98971773,
          -73.98631746,
          -73.981013,
          -73.98473765,
          -73.98426726,
          -74.01658354,
          -74.00965965,
          -74.00562789,
          -73.99193043,
          -73.97948148,
          -73.99726235,
          -73.99404649,
          -73.99906065,
          -73.97422494,
          -73.98776323,
          -73.97628939,
          -73.98016555,
          -73.96986848,
          -73.95380904,
          -74.00618026,
          -74.008591,
          -74.008591,
          -73.98329859,
          -73.9870295,
          -73.97722479,
          -73.97431458,
          -73.96223558,
          -73.99974372,
          -73.98261206,
          -74.00711384,
          -73.97498696,
          -74.00887308,
          -73.99190759,
          -73.98753523,
          -74.01713445,
          -73.96023854,
          -73.968896,
          -73.97069431,
          -74.00214988,
          -74.00026394,
          -73.95801365,
          -73.95381995,
          -74.00722156,
          -74.00566443,
          -73.9916,
          -74.00293877,
          -74.000271,
          -73.96603308,
          -74.00234482,
          -74.0046073,
          -74.00295035,
          -73.9842844,
          -73.99344559,
          -73.987167,
          -73.97995466,
          -73.97768752,
          -73.95576894,
          -73.96922273,
          -73.9999786,
          -73.9647628,
          -73.98178024,
          -73.98997825,
          -73.99069656,
          -74.008119,
          -73.99595065,
          -73.99400398,
          -73.98517977,
          -73.97668709,
          -73.99422366,
          -74.00926027,
          -73.97265183,
          -74.01020234,
          -73.982578,
          -73.97355569,
          -73.96968902,
          -73.97129668,
          -73.988038,
          -73.98690506,
          -74.01322069,
          -74.013942,
          -74.013942,
          -73.98783413,
          -73.98379855,
          -74.00366443,
          -73.99415556,
          -73.95399026,
          -73.95004798,
          -73.98564945,
          -73.98978041,
          -73.97282625,
          -73.993915,
          -73.96408963,
          -73.96408963,
          -73.98142006,
          -73.99529885,
          -73.9851615,
          -73.9979009,
          -73.98788205,
          -73.99915362,
          -73.96592976,
          -73.96905301,
          -73.97402311,
          -73.98169333,
          -74.005226,
          -73.96590294,
          -73.98205027,
          -74.00451887,
          -73.96759673,
          -73.98658032,
          -73.99144871,
          -73.98192338,
          -73.98268129,
          -74.00004031,
          -73.95698119,
          -73.98194829,
          -73.9919254,
          -73.98683077,
          -73.97966069,
          -73.9900262,
          -73.99884222,
          -73.9912551,
          -73.99061728,
          -73.96264403,
          -73.99931783,
          -73.98889957,
          -73.98014437,
          -73.98338988,
          -73.98855723,
          -74.00176802,
          -73.993934,
          -73.99723551,
          -73.99301222,
          -73.99238967,
          -73.99009296,
          -73.98336183,
          -73.97121214,
          -73.981095,
          -73.98751968,
          -73.98165557,
          -73.98165557,
          -73.98848395,
          -73.97973776,
          -73.99667444,
          -74.00197139,
          -73.98042047,
          -73.97772429,
          -73.99839279,
          -73.988639,
          -74.00277668,
          -73.99461843,
          -73.96784384,
          -73.97207836,
          -74.0021163,
          -73.98490707,
          -73.97706058,
          -73.99098507,
          -73.99046034,
          -73.99266288,
          -73.960876,
          -73.97536082,
          -73.98409214,
          -73.96024116,
          -73.98215353,
          -73.98215353,
          -73.97809472,
          -73.98303529,
          -73.963198,
          -73.98054421,
          -73.97634151,
          -74.01677685,
          -73.99682619,
          -74.00238141,
          -73.976806,
          -73.97121414,
          -73.98859651,
          -73.959223,
          -73.959223,
          -73.96165073,
          -73.96165073,
          -73.94142771,
          -73.9298911,
          -73.934903,
          -73.938475,
          -73.938037,
          -73.944118,
          -73.94977,
          -73.96304,
          -73.94111,
          -73.935775,
          -73.947915,
          -73.942061,
          -73.950916,
          -73.95133465,
          -73.9452416,
          -73.93705428,
          -73.939877,
          -73.94626915,
          -73.94371094,
          -73.94954908,
          -73.95238108,
          -73.93756926,
          -73.95032283,
          -73.94708417,
          -73.9437303,
          -73.940636,
          -73.94818595,
          -73.94407279,
          -73.94976519,
          -73.94644578,
          -73.94016171,
          -73.95796783,
          -73.9448625,
          -73.95095259,
          -73.96063149,
          -73.95608,
          -73.944024,
          -73.95141312,
          -73.94100005,
          -73.95739,
          -73.944507,
          -73.95234386,
          -73.952029,
          -73.95852515,
          -73.95850939,
          -73.94485918,
          -73.94500379,
          -73.95242,
          -73.94752622,
          -73.95484712,
          -73.9504154,
          -73.955736,
          -73.94308,
          -73.95212324,
          -73.94434,
          -73.95621,
          -73.95299117,
          -73.95779,
          -73.95394,
          -73.9550858,
          -73.95826,
          -73.95866,
          -73.95284,
          -73.95411749,
          -73.94733276,
          -73.95587325,
          -73.93540375,
          -73.95451,
          -73.94977234,
          -73.9432635,
          -73.9521,
          -73.94594845,
          -73.94073717,
          -73.96224618,
          -73.97109243,
          -73.96526895,
          -73.95772297,
          -73.971518,
          -73.96685276,
          -73.96409422,
          -73.9535166,
          -73.95818491,
          -73.96094022,
          -73.96427393,
          -73.9590097,
          -73.95772073,
          -73.9567526,
          -73.95407149,
          -73.95068615,
          -73.94989233,
          -73.96119945,
          -73.95856158,
          -73.95348296,
          -73.94446054,
          -73.98261428,
          -73.98266566,
          -73.97374737,
          -73.97728533,
          -73.97782542,
          -73.97898475,
          -73.97620574,
          -73.98562431,
          -73.98093045,
          -73.98128127,
          -73.97283406,
          -73.97667321,
          -73.97754961,
          -73.98888588,
          -73.98288594,
          -73.977112,
          -73.98362492,
          -73.941342,
          -73.93561,
          -73.97137,
          -73.96592081,
          -73.97805914,
          -73.99379969,
          -73.99379969,
          -73.95439535,
          -73.944694,
          -73.96226227,
          -73.99490342,
          -73.9923272,
          -73.9476791,
          -74.01486576,
          -73.99468482,
          -74.01129574,
          -73.99662137,
          -73.9907527,
          -73.95595908,
          -73.9747,
          -73.9521667,
          -73.97757,
          -73.9488134,
          -73.97288918,
          -73.946041,
          -73.957481,
          -73.955327,
          -73.97988067,
          -73.968087,
          -73.96434123,
          -73.99440329,
          -73.94963041,
          -73.98199886,
          -73.974124,
          -73.99645295,
          -73.94860294,
          -73.98396846,
          -73.94594,
          -73.9854617,
          -73.971888,
          -73.99785267,
          -73.9605909,
          -73.950503,
          -73.97114574,
          -74.0075572,
          -73.98282002,
          -73.953559,
          -73.97846879,
          -73.96211287,
          -73.95242929,
          -73.97041192,
          -73.94164802,
          -73.96644925,
          -73.95033068,
          -73.96818053,
          -73.95249933,
          -73.98775226,
          -73.94755757,
          -73.96699104,
          -73.94945003,
          -74.00348559,
          -73.93956237,
          -74.00860912,
          -74.00785041,
          -73.99785768,
          -73.98620772,
          -73.97519523,
          -73.97324283,
          -73.98154004,
          -73.98432695,
          -74.00242364,
          -73.94370784,
          -73.94335788,
          -73.99917254,
          -73.98700053,
          -73.9904394,
          -73.94728331,
          -73.99318208,
          -73.98352355,
          -73.99203074,
          -73.98876585,
          -73.98208968,
          -73.98258555
         ],
         "marker": {
          "color": [
           0.42252562784488407,
           0.3839111361813208,
           0.24463026741548766,
           0.2971684376256704,
           0.5224123781708787,
           0.12885989488243374,
           0.21032510363618412,
           0.5612837192893634,
           0.5602706491182072,
           0.24835580125414486,
           0.2014563710070999,
           0.37171688008201365,
           0.3525997538531538,
           0.6321442034146721,
           0.37388370601995835,
           0.44521190151875567,
           0.25479577808570264,
           0.5030977034427419,
           0.4060885720372923,
           0.5709835355517789,
           0.4176597937532905,
           0.43688232067585375,
           0.423591914641142,
           0.17462915792681327,
           0.2611223871040289,
           0.40715063991533307,
           0.3415558725585627,
           0.39220904708814075,
           0.5217783412215972,
           0.20355750022421915,
           0.5127748599496798,
           0.38722985709189384,
           0.16192398333733776,
           0.18397062907926737,
           0.23321400969705092,
           0.2191434498861827,
           0.19333051536631152,
           0.1477118160794253,
           0.36436689665356825,
           0.2750293376912073,
           0.32202240707807894,
           0.5412241459387648,
           0.5592052430794253,
           0.5251543062970141,
           0.40347890041428425,
           0.3594182724883376,
           0.3993617924898197,
           0.20046677692754777,
           0.3970581422282826,
           0.32210952718508845,
           0.2756994206589547,
           0.17273953589732682,
           0.381874589629255,
           0.4501578864027048,
           0.26361286974708786,
           0.3347088708207853,
           0.426365482999148,
           0.21250420691116467,
           0.18421764320074707,
           0.2004321511562409,
           0.4454746347684372,
           0.6315384209129977,
           0.655787299783558,
           0.16066369669495942,
           0.26724523994779514,
           0.7395832193604721,
           0.4256062740853722,
           0.32297163295288434,
           0.4846902176459874,
           0.18834785867135712,
           0.4736018009504781,
           0.28708058475400927,
           0.4179776884069629,
           0.43297505366332034,
           0.5001512654593858,
           0.4334046447680828,
           0.2974447689223486,
           0.3536658052516854,
           0.4723975673251518,
           0.49372854822247164,
           0.24443288578784247,
           0.4245289703252654,
           0.38749174054421365,
           0.4292062612555043,
           0.36118138499165603,
           0.3919347500541495,
           0.3717612519775516,
           0.35203547405753793,
           0.17753786987676629,
           0.3902553885053887,
           0.2868687609456813,
           0.4199819726125721,
           0.47420645785822374,
           0.5814083883836456,
           0.3972968057374696,
           0.3687964842387525,
           0.24733266958190286,
           0.3158581423982195,
           0.4695680083364362,
           0.4519954230630714,
           0.45205658165544144,
           0.24179043908150766,
           0.2823047430751972,
           0.2705703360127901,
           0.3051441154216359,
           0.1765746799928579,
           0.1753661215336007,
           0.41734240961615643,
           0.5693362171221585,
           0.5342407463053299,
           0.35091774696766415,
           0.3645585895922805,
           0.44730179353245,
           0.18531064013758491,
           0.1966132137197047,
           0.3962816133296068,
           0.33336257448505385,
           0.5839818030567657,
           0.4989208858488221,
           0.3531316796604981,
           0.4446418409930456,
           0.3397258067376621,
           0.442992664397649,
           0.1686416690823676,
           0.2577321077498034,
           0.3814457179313421,
           0.616712598474664,
           0.37204789412482453,
           0.16511783526158447,
           0.22865909683303587,
           0.3551046439691629,
           0.37611352813947535,
           0.5565480028900927,
           0.5032939005671694,
           0.42521969112552516,
           0.36898990327060666,
           0.38295562444465214,
           0.4234260340370647,
           0.4630598273029748,
           0.2098271479935593,
           0.27709942770666296,
           0.2961178104462846,
           0.3364044633000688,
           0.4220926583138431,
           0.26365228216533043,
           0.20746013338441543,
           0.26852471383087406,
           0.16386293099874866,
           0.24986302238919733,
           0.472516851124313,
           0.40534267442124633,
           0.4416409615374598,
           0.24742308492884368,
           0.25991712403700784,
           0.47177597658190684,
           0.3050519474968442,
           0.40504665631038916,
           0.39477014309414954,
           0.22072492706214342,
           0.5284464629311781,
           0.1906185345783139,
           0.17445243364663748,
           0.18548016305116422,
           0.15561846725268982,
           0.39177756037071454,
           0.33189456743770707,
           0.6537371937651599,
           0.37138491483309527,
           0.36418866195912136,
           0.47190634358660544,
           0.5192741484775361,
           0.4485342488138281,
           0.7252798904783473,
           0.18953824480115944,
           0.1912453254992783,
           0.44120047570944526,
           0.46999605335017225,
           0.3745015854226975,
           0.510204835473291,
           0.1473246964784791,
           0.175764234428596,
           0.5179195080394328,
           0.5221904838675635,
           0.4311643165989326,
           0.4360933016103192,
           0.4652188602580295,
           0.4927206481539407,
           0.3546024391162087,
           0.4041282262262147,
           0.34574472177234344,
           0.49354477566983534,
           0.4762022816780811,
           0.29098051582973816,
           0.4906404063764953,
           0.5309938457909549,
           0.33237431619815566,
           0.46480159391217235,
           0.519264712806305,
           0.438684383522896,
           0.36760465131943293,
           0.42849707075338817,
           0.33878305569973444,
           0.5284653223563194,
           0.411165576530867,
           0.46855531442842424,
           0.46984143298024916,
           0.6340454231241617,
           0.43930610776232937,
           0.47818138239590147,
           0.38708519700657484,
           0.2781658082386372,
           0.48089202939652065,
           0.5112918995502049,
           0.4415977415588697,
           0.39267312074692184,
           0.4743197812172958,
           0.4145274747802673,
           0.6049851809887897,
           0.5005959582489647,
           0.4172587767573047,
           0.5074438143628571,
           0.7595781973288758,
           0.3875846122841904,
           0.42603260311867786,
           0.34671392927381905,
           0.4545983723089765,
           0.5448418906659716,
           0.6401419545242435,
           0.5100848357279528,
           0.4998362395101611,
           0.40880235615453747,
           0.5173252313405016,
           0.4020240611417569,
           0.48441892234153416,
           0.36800976808581476,
           0.35993107535626256,
           0.5153499739215031,
           0.4568954696728966,
           0.3098858702831586,
           0.36150699986579204,
           0.343605892754842,
           0.43174177832939353,
           0.5130416230055735,
           0.47827163372999587,
           0.4359221968159919,
           0.46683166402585086,
           0.42603924280874456,
           0.4793746500878407,
           0.5553624558151382,
           0.38187940540525,
           0.5033085539371022,
           0.5044413654438596,
           0.49020263124168084,
           0.4769972654455485,
           0.3954449662067415,
           0.4499141134725229,
           0.40148312860236746,
           0.3920535487271021,
           0.28026583545897854,
           0.4092173282857702,
           0.39504066652105985,
           0.3301060636593748,
           0.41439920082948173,
           0.36365892548943046,
           0.35241037580434953,
           0.306818162240798,
           0.3148013655254507,
           0.16713136333784434,
           0.14851735514379158,
           0.11159418017487546,
           0.16339121588334368,
           0.15480689738436024,
           0.1291309751759663,
           0.09423990992284235,
           0.14349198643903677,
           0.1380085025623997,
           0.13429101431485657,
           0.10998266569626068,
           0.11463652264876996,
           0.12334284620952306,
           0.1069566268973588,
           0.1462467421902203,
           0.12344513329759355,
           0.12689851245508943,
           0.12866822157848945,
           0.11251250077919449,
           0.10008695488523088,
           0.10184483307464047,
           0.18948887691003835,
           0.10120230473454887,
           0.1403618184109575,
           0.15384496049270546,
           0.1622564401116801,
           0.10679681341376929,
           0.14281844517715359,
           0.13423421899664803,
           0.12628086376306322,
           0.20717089297925795,
           0.0919533397684901,
           0.1346976048531949,
           0.17096895900597972,
           0.13141344740352173,
           0.13490774057545538,
           0.16554324143587862,
           0.20080729388387147,
           0.18425091619104192,
           0.159231314413959,
           0.18275148125691418,
           0.1813160941966875,
           0.1622290062863207,
           0.2081593965198847,
           0.2584955193021899,
           0.1431666617133639,
           0.1286155110795642,
           0.16504404328967248,
           0.13941708936057412,
           0.1668188655174307,
           0.17147418293012454,
           0.12677661327041942,
           0.15546090485865596,
           0.2223754636479533,
           0.18755991746147319,
           0.15061027596185442,
           0.1623893665883279,
           0.2308742923690664,
           0.1771085831876662,
           0.19363035442527274,
           0.14126295522695514,
           0.13430947207559468,
           0.16708793214056714,
           0.19299799336933848,
           0.15623865175907084,
           0.12726281108482762,
           0.16916829490126356,
           0.13483647810760854,
           0.16081028135813552,
           0.2010276169523313,
           0.09118386696024106,
           0.14168325550031247,
           0.27303143431452315,
           0.16975322800672812,
           0.2738141633837036,
           0.2517303782760722,
           0.3144192923796872,
           0.21123239097495894,
           0.2760786729816027,
           0.26225732593472445,
           0.38330593082596554,
           0.5193052140587954,
           0.3881727196096415,
           0.2747225194675438,
           0.19491760303322953,
           0.3609856497154535,
           0.23062647720977916,
           0.38966201316549404,
           0.27838090278639216,
           0.24915935608253853,
           0.1909571303701639,
           0.20574531335976004,
           0.3897195579197107,
           0.21660833768354743,
           0.34701752156718574,
           0.33230537756042566,
           0.22869786267132594,
           0.2506367722141959,
           0.28526670666465115,
           0.3661860901494898,
           0.27061216051275916,
           0.30461523752267483,
           0.341808580360208,
           0.33487426050321073,
           0.2894689626973613,
           0.302169649678094,
           0.24095975616634113,
           0.3343198886363753,
           0.30870050590120224,
           0.3863906896614886,
           0.29238756168287217,
           0.12579158793363662,
           0.15041428892423878,
           0.22953480494864867,
           0.2830489933885412,
           0.38599915755121106,
           0.2802468342361838,
           0.38508987716743914,
           0.21472023596212236,
           0.13957394806176832,
           0.1949941556292442,
           0.3581270362997228,
           0.1828528300422676,
           0.13561077744726324,
           0.15854498024564856,
           0.551720230344539,
           0.35565105624212684,
           0.31954051973503217,
           0.6829377728688012,
           0.16483647933819176,
           0.17637830921320433,
           0.18994957103186477,
           0.19408938373963575,
           0.21970598340104702,
           0.12335176569473719,
           0.07278189803905995,
           0.11511385362628615,
           0.10180291101071817,
           0.034402633732789664,
           0.25827295379305004,
           0.059699380740854506,
           0.14507813170737693,
           0.22727014720832847,
           0.17842300112388848,
           0.20326000717935694,
           0.0381426400409862,
           0.05441219720625794,
           0.26115677984399355,
           0.12540635938264313,
           0.08073936344744613,
           0.21274464633759935,
           0.15870778183043993,
           0.2121282131088845,
           0.15292714649132577,
           0.25787852366662506,
           0.16796326784367677,
           0.09792804948552568,
           0.19796158019377552,
           0.11334771584188767,
           0.14856539734147736,
           0.10811711467730592,
           0.21966708846591665,
           0.0933788161539193,
           0.18699920350084664,
           0.11801347010504747,
           0.23168774247999652,
           0.16257129057349928,
           0.09759834657792307,
           0.0753021129096061,
           0.23583362241206432,
           0.10865416165372417,
           0.1166725919334619,
           0.07956055530684118,
           0.14322373356757845,
           0.19051378583174552,
           0.09914313891029382,
           0.17317501826717038,
           0.16336265102619804,
           0.20061034725993498,
           0.160712762658955,
           0.07920940177598072,
           0.06347478945641474,
           0.09359545884489728,
           0.0040539996780943185,
           0.007343473362304845,
           0.003289473684210526,
           0.003289473684210526,
           0.011397473040399163,
           0.003289473684210526,
           0.007343473362304845,
           0.007343473362304845,
           0.007343473362304845,
           0.003289473684210526,
           0.011397473040399163
          ],
          "coloraxis": "coloraxis",
          "opacity": 0.5,
          "size": [
           0.42252562784488407,
           0.3839111361813208,
           0.24463026741548766,
           0.2971684376256704,
           0.5224123781708787,
           0.12885989488243374,
           0.21032510363618412,
           0.5612837192893634,
           0.5602706491182072,
           0.24835580125414486,
           0.2014563710070999,
           0.37171688008201365,
           0.3525997538531538,
           0.6321442034146721,
           0.37388370601995835,
           0.44521190151875567,
           0.25479577808570264,
           0.5030977034427419,
           0.4060885720372923,
           0.5709835355517789,
           0.4176597937532905,
           0.43688232067585375,
           0.423591914641142,
           0.17462915792681327,
           0.2611223871040289,
           0.40715063991533307,
           0.3415558725585627,
           0.39220904708814075,
           0.5217783412215972,
           0.20355750022421915,
           0.5127748599496798,
           0.38722985709189384,
           0.16192398333733776,
           0.18397062907926737,
           0.23321400969705092,
           0.2191434498861827,
           0.19333051536631152,
           0.1477118160794253,
           0.36436689665356825,
           0.2750293376912073,
           0.32202240707807894,
           0.5412241459387648,
           0.5592052430794253,
           0.5251543062970141,
           0.40347890041428425,
           0.3594182724883376,
           0.3993617924898197,
           0.20046677692754777,
           0.3970581422282826,
           0.32210952718508845,
           0.2756994206589547,
           0.17273953589732682,
           0.381874589629255,
           0.4501578864027048,
           0.26361286974708786,
           0.3347088708207853,
           0.426365482999148,
           0.21250420691116467,
           0.18421764320074707,
           0.2004321511562409,
           0.4454746347684372,
           0.6315384209129977,
           0.655787299783558,
           0.16066369669495942,
           0.26724523994779514,
           0.7395832193604721,
           0.4256062740853722,
           0.32297163295288434,
           0.4846902176459874,
           0.18834785867135712,
           0.4736018009504781,
           0.28708058475400927,
           0.4179776884069629,
           0.43297505366332034,
           0.5001512654593858,
           0.4334046447680828,
           0.2974447689223486,
           0.3536658052516854,
           0.4723975673251518,
           0.49372854822247164,
           0.24443288578784247,
           0.4245289703252654,
           0.38749174054421365,
           0.4292062612555043,
           0.36118138499165603,
           0.3919347500541495,
           0.3717612519775516,
           0.35203547405753793,
           0.17753786987676629,
           0.3902553885053887,
           0.2868687609456813,
           0.4199819726125721,
           0.47420645785822374,
           0.5814083883836456,
           0.3972968057374696,
           0.3687964842387525,
           0.24733266958190286,
           0.3158581423982195,
           0.4695680083364362,
           0.4519954230630714,
           0.45205658165544144,
           0.24179043908150766,
           0.2823047430751972,
           0.2705703360127901,
           0.3051441154216359,
           0.1765746799928579,
           0.1753661215336007,
           0.41734240961615643,
           0.5693362171221585,
           0.5342407463053299,
           0.35091774696766415,
           0.3645585895922805,
           0.44730179353245,
           0.18531064013758491,
           0.1966132137197047,
           0.3962816133296068,
           0.33336257448505385,
           0.5839818030567657,
           0.4989208858488221,
           0.3531316796604981,
           0.4446418409930456,
           0.3397258067376621,
           0.442992664397649,
           0.1686416690823676,
           0.2577321077498034,
           0.3814457179313421,
           0.616712598474664,
           0.37204789412482453,
           0.16511783526158447,
           0.22865909683303587,
           0.3551046439691629,
           0.37611352813947535,
           0.5565480028900927,
           0.5032939005671694,
           0.42521969112552516,
           0.36898990327060666,
           0.38295562444465214,
           0.4234260340370647,
           0.4630598273029748,
           0.2098271479935593,
           0.27709942770666296,
           0.2961178104462846,
           0.3364044633000688,
           0.4220926583138431,
           0.26365228216533043,
           0.20746013338441543,
           0.26852471383087406,
           0.16386293099874866,
           0.24986302238919733,
           0.472516851124313,
           0.40534267442124633,
           0.4416409615374598,
           0.24742308492884368,
           0.25991712403700784,
           0.47177597658190684,
           0.3050519474968442,
           0.40504665631038916,
           0.39477014309414954,
           0.22072492706214342,
           0.5284464629311781,
           0.1906185345783139,
           0.17445243364663748,
           0.18548016305116422,
           0.15561846725268982,
           0.39177756037071454,
           0.33189456743770707,
           0.6537371937651599,
           0.37138491483309527,
           0.36418866195912136,
           0.47190634358660544,
           0.5192741484775361,
           0.4485342488138281,
           0.7252798904783473,
           0.18953824480115944,
           0.1912453254992783,
           0.44120047570944526,
           0.46999605335017225,
           0.3745015854226975,
           0.510204835473291,
           0.1473246964784791,
           0.175764234428596,
           0.5179195080394328,
           0.5221904838675635,
           0.4311643165989326,
           0.4360933016103192,
           0.4652188602580295,
           0.4927206481539407,
           0.3546024391162087,
           0.4041282262262147,
           0.34574472177234344,
           0.49354477566983534,
           0.4762022816780811,
           0.29098051582973816,
           0.4906404063764953,
           0.5309938457909549,
           0.33237431619815566,
           0.46480159391217235,
           0.519264712806305,
           0.438684383522896,
           0.36760465131943293,
           0.42849707075338817,
           0.33878305569973444,
           0.5284653223563194,
           0.411165576530867,
           0.46855531442842424,
           0.46984143298024916,
           0.6340454231241617,
           0.43930610776232937,
           0.47818138239590147,
           0.38708519700657484,
           0.2781658082386372,
           0.48089202939652065,
           0.5112918995502049,
           0.4415977415588697,
           0.39267312074692184,
           0.4743197812172958,
           0.4145274747802673,
           0.6049851809887897,
           0.5005959582489647,
           0.4172587767573047,
           0.5074438143628571,
           0.7595781973288758,
           0.3875846122841904,
           0.42603260311867786,
           0.34671392927381905,
           0.4545983723089765,
           0.5448418906659716,
           0.6401419545242435,
           0.5100848357279528,
           0.4998362395101611,
           0.40880235615453747,
           0.5173252313405016,
           0.4020240611417569,
           0.48441892234153416,
           0.36800976808581476,
           0.35993107535626256,
           0.5153499739215031,
           0.4568954696728966,
           0.3098858702831586,
           0.36150699986579204,
           0.343605892754842,
           0.43174177832939353,
           0.5130416230055735,
           0.47827163372999587,
           0.4359221968159919,
           0.46683166402585086,
           0.42603924280874456,
           0.4793746500878407,
           0.5553624558151382,
           0.38187940540525,
           0.5033085539371022,
           0.5044413654438596,
           0.49020263124168084,
           0.4769972654455485,
           0.3954449662067415,
           0.4499141134725229,
           0.40148312860236746,
           0.3920535487271021,
           0.28026583545897854,
           0.4092173282857702,
           0.39504066652105985,
           0.3301060636593748,
           0.41439920082948173,
           0.36365892548943046,
           0.35241037580434953,
           0.306818162240798,
           0.3148013655254507,
           0.16713136333784434,
           0.14851735514379158,
           0.11159418017487546,
           0.16339121588334368,
           0.15480689738436024,
           0.1291309751759663,
           0.09423990992284235,
           0.14349198643903677,
           0.1380085025623997,
           0.13429101431485657,
           0.10998266569626068,
           0.11463652264876996,
           0.12334284620952306,
           0.1069566268973588,
           0.1462467421902203,
           0.12344513329759355,
           0.12689851245508943,
           0.12866822157848945,
           0.11251250077919449,
           0.10008695488523088,
           0.10184483307464047,
           0.18948887691003835,
           0.10120230473454887,
           0.1403618184109575,
           0.15384496049270546,
           0.1622564401116801,
           0.10679681341376929,
           0.14281844517715359,
           0.13423421899664803,
           0.12628086376306322,
           0.20717089297925795,
           0.0919533397684901,
           0.1346976048531949,
           0.17096895900597972,
           0.13141344740352173,
           0.13490774057545538,
           0.16554324143587862,
           0.20080729388387147,
           0.18425091619104192,
           0.159231314413959,
           0.18275148125691418,
           0.1813160941966875,
           0.1622290062863207,
           0.2081593965198847,
           0.2584955193021899,
           0.1431666617133639,
           0.1286155110795642,
           0.16504404328967248,
           0.13941708936057412,
           0.1668188655174307,
           0.17147418293012454,
           0.12677661327041942,
           0.15546090485865596,
           0.2223754636479533,
           0.18755991746147319,
           0.15061027596185442,
           0.1623893665883279,
           0.2308742923690664,
           0.1771085831876662,
           0.19363035442527274,
           0.14126295522695514,
           0.13430947207559468,
           0.16708793214056714,
           0.19299799336933848,
           0.15623865175907084,
           0.12726281108482762,
           0.16916829490126356,
           0.13483647810760854,
           0.16081028135813552,
           0.2010276169523313,
           0.09118386696024106,
           0.14168325550031247,
           0.27303143431452315,
           0.16975322800672812,
           0.2738141633837036,
           0.2517303782760722,
           0.3144192923796872,
           0.21123239097495894,
           0.2760786729816027,
           0.26225732593472445,
           0.38330593082596554,
           0.5193052140587954,
           0.3881727196096415,
           0.2747225194675438,
           0.19491760303322953,
           0.3609856497154535,
           0.23062647720977916,
           0.38966201316549404,
           0.27838090278639216,
           0.24915935608253853,
           0.1909571303701639,
           0.20574531335976004,
           0.3897195579197107,
           0.21660833768354743,
           0.34701752156718574,
           0.33230537756042566,
           0.22869786267132594,
           0.2506367722141959,
           0.28526670666465115,
           0.3661860901494898,
           0.27061216051275916,
           0.30461523752267483,
           0.341808580360208,
           0.33487426050321073,
           0.2894689626973613,
           0.302169649678094,
           0.24095975616634113,
           0.3343198886363753,
           0.30870050590120224,
           0.3863906896614886,
           0.29238756168287217,
           0.12579158793363662,
           0.15041428892423878,
           0.22953480494864867,
           0.2830489933885412,
           0.38599915755121106,
           0.2802468342361838,
           0.38508987716743914,
           0.21472023596212236,
           0.13957394806176832,
           0.1949941556292442,
           0.3581270362997228,
           0.1828528300422676,
           0.13561077744726324,
           0.15854498024564856,
           0.551720230344539,
           0.35565105624212684,
           0.31954051973503217,
           0.6829377728688012,
           0.16483647933819176,
           0.17637830921320433,
           0.18994957103186477,
           0.19408938373963575,
           0.21970598340104702,
           0.12335176569473719,
           0.07278189803905995,
           0.11511385362628615,
           0.10180291101071817,
           0.034402633732789664,
           0.25827295379305004,
           0.059699380740854506,
           0.14507813170737693,
           0.22727014720832847,
           0.17842300112388848,
           0.20326000717935694,
           0.0381426400409862,
           0.05441219720625794,
           0.26115677984399355,
           0.12540635938264313,
           0.08073936344744613,
           0.21274464633759935,
           0.15870778183043993,
           0.2121282131088845,
           0.15292714649132577,
           0.25787852366662506,
           0.16796326784367677,
           0.09792804948552568,
           0.19796158019377552,
           0.11334771584188767,
           0.14856539734147736,
           0.10811711467730592,
           0.21966708846591665,
           0.0933788161539193,
           0.18699920350084664,
           0.11801347010504747,
           0.23168774247999652,
           0.16257129057349928,
           0.09759834657792307,
           0.0753021129096061,
           0.23583362241206432,
           0.10865416165372417,
           0.1166725919334619,
           0.07956055530684118,
           0.14322373356757845,
           0.19051378583174552,
           0.09914313891029382,
           0.17317501826717038,
           0.16336265102619804,
           0.20061034725993498,
           0.160712762658955,
           0.07920940177598072,
           0.06347478945641474,
           0.09359545884489728,
           0.0040539996780943185,
           0.007343473362304845,
           0.003289473684210526,
           0.003289473684210526,
           0.011397473040399163,
           0.003289473684210526,
           0.007343473362304845,
           0.007343473362304845,
           0.007343473362304845,
           0.003289473684210526,
           0.011397473040399163
          ],
          "sizemode": "area",
          "sizeref": 0.0018989454933221895
         },
         "mode": "markers",
         "name": "",
         "showlegend": false,
         "subplot": "mapbox",
         "type": "scattermapbox"
        }
       ],
       "layout": {
        "coloraxis": {
         "cmax": 0.9,
         "cmin": 0,
         "colorbar": {
          "title": {
           "text": "perf_score"
          }
         },
         "colorscale": [
          [
           0,
           "#440154"
          ],
          [
           0.1111111111111111,
           "#482878"
          ],
          [
           0.2222222222222222,
           "#3e4989"
          ],
          [
           0.3333333333333333,
           "#31688e"
          ],
          [
           0.4444444444444444,
           "#26828e"
          ],
          [
           0.5555555555555556,
           "#1f9e89"
          ],
          [
           0.6666666666666666,
           "#35b779"
          ],
          [
           0.7777777777777778,
           "#6ece58"
          ],
          [
           0.8888888888888888,
           "#b5de2b"
          ],
          [
           1,
           "#fde725"
          ]
         ]
        },
        "height": 400,
        "legend": {
         "itemsizing": "constant",
         "tracegroupgap": 0
        },
        "mapbox": {
         "center": {
          "lat": 40.72976387427332,
          "lon": -73.97714072722341
         },
         "domain": {
          "x": [
           0,
           1
          ],
          "y": [
           0,
           1
          ]
         },
         "style": "stamen-terrain",
         "zoom": 10
        },
        "margin": {
         "b": 0,
         "l": 0,
         "r": 0,
         "t": 0
        },
        "template": {
         "data": {
          "bar": [
           {
            "error_x": {
             "color": "#2a3f5f"
            },
            "error_y": {
             "color": "#2a3f5f"
            },
            "marker": {
             "line": {
              "color": "#E5ECF6",
              "width": 0.5
             },
             "pattern": {
              "fillmode": "overlay",
              "size": 10,
              "solidity": 0.2
             }
            },
            "type": "bar"
           }
          ],
          "barpolar": [
           {
            "marker": {
             "line": {
              "color": "#E5ECF6",
              "width": 0.5
             },
             "pattern": {
              "fillmode": "overlay",
              "size": 10,
              "solidity": 0.2
             }
            },
            "type": "barpolar"
           }
          ],
          "carpet": [
           {
            "aaxis": {
             "endlinecolor": "#2a3f5f",
             "gridcolor": "white",
             "linecolor": "white",
             "minorgridcolor": "white",
             "startlinecolor": "#2a3f5f"
            },
            "baxis": {
             "endlinecolor": "#2a3f5f",
             "gridcolor": "white",
             "linecolor": "white",
             "minorgridcolor": "white",
             "startlinecolor": "#2a3f5f"
            },
            "type": "carpet"
           }
          ],
          "choropleth": [
           {
            "colorbar": {
             "outlinewidth": 0,
             "ticks": ""
            },
            "type": "choropleth"
           }
          ],
          "contour": [
           {
            "colorbar": {
             "outlinewidth": 0,
             "ticks": ""
            },
            "colorscale": [
             [
              0,
              "#0d0887"
             ],
             [
              0.1111111111111111,
              "#46039f"
             ],
             [
              0.2222222222222222,
              "#7201a8"
             ],
             [
              0.3333333333333333,
              "#9c179e"
             ],
             [
              0.4444444444444444,
              "#bd3786"
             ],
             [
              0.5555555555555556,
              "#d8576b"
             ],
             [
              0.6666666666666666,
              "#ed7953"
             ],
             [
              0.7777777777777778,
              "#fb9f3a"
             ],
             [
              0.8888888888888888,
              "#fdca26"
             ],
             [
              1,
              "#f0f921"
             ]
            ],
            "type": "contour"
           }
          ],
          "contourcarpet": [
           {
            "colorbar": {
             "outlinewidth": 0,
             "ticks": ""
            },
            "type": "contourcarpet"
           }
          ],
          "heatmap": [
           {
            "colorbar": {
             "outlinewidth": 0,
             "ticks": ""
            },
            "colorscale": [
             [
              0,
              "#0d0887"
             ],
             [
              0.1111111111111111,
              "#46039f"
             ],
             [
              0.2222222222222222,
              "#7201a8"
             ],
             [
              0.3333333333333333,
              "#9c179e"
             ],
             [
              0.4444444444444444,
              "#bd3786"
             ],
             [
              0.5555555555555556,
              "#d8576b"
             ],
             [
              0.6666666666666666,
              "#ed7953"
             ],
             [
              0.7777777777777778,
              "#fb9f3a"
             ],
             [
              0.8888888888888888,
              "#fdca26"
             ],
             [
              1,
              "#f0f921"
             ]
            ],
            "type": "heatmap"
           }
          ],
          "heatmapgl": [
           {
            "colorbar": {
             "outlinewidth": 0,
             "ticks": ""
            },
            "colorscale": [
             [
              0,
              "#0d0887"
             ],
             [
              0.1111111111111111,
              "#46039f"
             ],
             [
              0.2222222222222222,
              "#7201a8"
             ],
             [
              0.3333333333333333,
              "#9c179e"
             ],
             [
              0.4444444444444444,
              "#bd3786"
             ],
             [
              0.5555555555555556,
              "#d8576b"
             ],
             [
              0.6666666666666666,
              "#ed7953"
             ],
             [
              0.7777777777777778,
              "#fb9f3a"
             ],
             [
              0.8888888888888888,
              "#fdca26"
             ],
             [
              1,
              "#f0f921"
             ]
            ],
            "type": "heatmapgl"
           }
          ],
          "histogram": [
           {
            "marker": {
             "pattern": {
              "fillmode": "overlay",
              "size": 10,
              "solidity": 0.2
             }
            },
            "type": "histogram"
           }
          ],
          "histogram2d": [
           {
            "colorbar": {
             "outlinewidth": 0,
             "ticks": ""
            },
            "colorscale": [
             [
              0,
              "#0d0887"
             ],
             [
              0.1111111111111111,
              "#46039f"
             ],
             [
              0.2222222222222222,
              "#7201a8"
             ],
             [
              0.3333333333333333,
              "#9c179e"
             ],
             [
              0.4444444444444444,
              "#bd3786"
             ],
             [
              0.5555555555555556,
              "#d8576b"
             ],
             [
              0.6666666666666666,
              "#ed7953"
             ],
             [
              0.7777777777777778,
              "#fb9f3a"
             ],
             [
              0.8888888888888888,
              "#fdca26"
             ],
             [
              1,
              "#f0f921"
             ]
            ],
            "type": "histogram2d"
           }
          ],
          "histogram2dcontour": [
           {
            "colorbar": {
             "outlinewidth": 0,
             "ticks": ""
            },
            "colorscale": [
             [
              0,
              "#0d0887"
             ],
             [
              0.1111111111111111,
              "#46039f"
             ],
             [
              0.2222222222222222,
              "#7201a8"
             ],
             [
              0.3333333333333333,
              "#9c179e"
             ],
             [
              0.4444444444444444,
              "#bd3786"
             ],
             [
              0.5555555555555556,
              "#d8576b"
             ],
             [
              0.6666666666666666,
              "#ed7953"
             ],
             [
              0.7777777777777778,
              "#fb9f3a"
             ],
             [
              0.8888888888888888,
              "#fdca26"
             ],
             [
              1,
              "#f0f921"
             ]
            ],
            "type": "histogram2dcontour"
           }
          ],
          "mesh3d": [
           {
            "colorbar": {
             "outlinewidth": 0,
             "ticks": ""
            },
            "type": "mesh3d"
           }
          ],
          "parcoords": [
           {
            "line": {
             "colorbar": {
              "outlinewidth": 0,
              "ticks": ""
             }
            },
            "type": "parcoords"
           }
          ],
          "pie": [
           {
            "automargin": true,
            "type": "pie"
           }
          ],
          "scatter": [
           {
            "fillpattern": {
             "fillmode": "overlay",
             "size": 10,
             "solidity": 0.2
            },
            "type": "scatter"
           }
          ],
          "scatter3d": [
           {
            "line": {
             "colorbar": {
              "outlinewidth": 0,
              "ticks": ""
             }
            },
            "marker": {
             "colorbar": {
              "outlinewidth": 0,
              "ticks": ""
             }
            },
            "type": "scatter3d"
           }
          ],
          "scattercarpet": [
           {
            "marker": {
             "colorbar": {
              "outlinewidth": 0,
              "ticks": ""
             }
            },
            "type": "scattercarpet"
           }
          ],
          "scattergeo": [
           {
            "marker": {
             "colorbar": {
              "outlinewidth": 0,
              "ticks": ""
             }
            },
            "type": "scattergeo"
           }
          ],
          "scattergl": [
           {
            "marker": {
             "colorbar": {
              "outlinewidth": 0,
              "ticks": ""
             }
            },
            "type": "scattergl"
           }
          ],
          "scattermapbox": [
           {
            "marker": {
             "colorbar": {
              "outlinewidth": 0,
              "ticks": ""
             }
            },
            "type": "scattermapbox"
           }
          ],
          "scatterpolar": [
           {
            "marker": {
             "colorbar": {
              "outlinewidth": 0,
              "ticks": ""
             }
            },
            "type": "scatterpolar"
           }
          ],
          "scatterpolargl": [
           {
            "marker": {
             "colorbar": {
              "outlinewidth": 0,
              "ticks": ""
             }
            },
            "type": "scatterpolargl"
           }
          ],
          "scatterternary": [
           {
            "marker": {
             "colorbar": {
              "outlinewidth": 0,
              "ticks": ""
             }
            },
            "type": "scatterternary"
           }
          ],
          "surface": [
           {
            "colorbar": {
             "outlinewidth": 0,
             "ticks": ""
            },
            "colorscale": [
             [
              0,
              "#0d0887"
             ],
             [
              0.1111111111111111,
              "#46039f"
             ],
             [
              0.2222222222222222,
              "#7201a8"
             ],
             [
              0.3333333333333333,
              "#9c179e"
             ],
             [
              0.4444444444444444,
              "#bd3786"
             ],
             [
              0.5555555555555556,
              "#d8576b"
             ],
             [
              0.6666666666666666,
              "#ed7953"
             ],
             [
              0.7777777777777778,
              "#fb9f3a"
             ],
             [
              0.8888888888888888,
              "#fdca26"
             ],
             [
              1,
              "#f0f921"
             ]
            ],
            "type": "surface"
           }
          ],
          "table": [
           {
            "cells": {
             "fill": {
              "color": "#EBF0F8"
             },
             "line": {
              "color": "white"
             }
            },
            "header": {
             "fill": {
              "color": "#C8D4E3"
             },
             "line": {
              "color": "white"
             }
            },
            "type": "table"
           }
          ]
         },
         "layout": {
          "annotationdefaults": {
           "arrowcolor": "#2a3f5f",
           "arrowhead": 0,
           "arrowwidth": 1
          },
          "autotypenumbers": "strict",
          "coloraxis": {
           "colorbar": {
            "outlinewidth": 0,
            "ticks": ""
           }
          },
          "colorscale": {
           "diverging": [
            [
             0,
             "#8e0152"
            ],
            [
             0.1,
             "#c51b7d"
            ],
            [
             0.2,
             "#de77ae"
            ],
            [
             0.3,
             "#f1b6da"
            ],
            [
             0.4,
             "#fde0ef"
            ],
            [
             0.5,
             "#f7f7f7"
            ],
            [
             0.6,
             "#e6f5d0"
            ],
            [
             0.7,
             "#b8e186"
            ],
            [
             0.8,
             "#7fbc41"
            ],
            [
             0.9,
             "#4d9221"
            ],
            [
             1,
             "#276419"
            ]
           ],
           "sequential": [
            [
             0,
             "#0d0887"
            ],
            [
             0.1111111111111111,
             "#46039f"
            ],
            [
             0.2222222222222222,
             "#7201a8"
            ],
            [
             0.3333333333333333,
             "#9c179e"
            ],
            [
             0.4444444444444444,
             "#bd3786"
            ],
            [
             0.5555555555555556,
             "#d8576b"
            ],
            [
             0.6666666666666666,
             "#ed7953"
            ],
            [
             0.7777777777777778,
             "#fb9f3a"
            ],
            [
             0.8888888888888888,
             "#fdca26"
            ],
            [
             1,
             "#f0f921"
            ]
           ],
           "sequentialminus": [
            [
             0,
             "#0d0887"
            ],
            [
             0.1111111111111111,
             "#46039f"
            ],
            [
             0.2222222222222222,
             "#7201a8"
            ],
            [
             0.3333333333333333,
             "#9c179e"
            ],
            [
             0.4444444444444444,
             "#bd3786"
            ],
            [
             0.5555555555555556,
             "#d8576b"
            ],
            [
             0.6666666666666666,
             "#ed7953"
            ],
            [
             0.7777777777777778,
             "#fb9f3a"
            ],
            [
             0.8888888888888888,
             "#fdca26"
            ],
            [
             1,
             "#f0f921"
            ]
           ]
          },
          "colorway": [
           "#636efa",
           "#EF553B",
           "#00cc96",
           "#ab63fa",
           "#FFA15A",
           "#19d3f3",
           "#FF6692",
           "#B6E880",
           "#FF97FF",
           "#FECB52"
          ],
          "font": {
           "color": "#2a3f5f"
          },
          "geo": {
           "bgcolor": "white",
           "lakecolor": "white",
           "landcolor": "#E5ECF6",
           "showlakes": true,
           "showland": true,
           "subunitcolor": "white"
          },
          "hoverlabel": {
           "align": "left"
          },
          "hovermode": "closest",
          "mapbox": {
           "style": "light"
          },
          "paper_bgcolor": "white",
          "plot_bgcolor": "#E5ECF6",
          "polar": {
           "angularaxis": {
            "gridcolor": "white",
            "linecolor": "white",
            "ticks": ""
           },
           "bgcolor": "#E5ECF6",
           "radialaxis": {
            "gridcolor": "white",
            "linecolor": "white",
            "ticks": ""
           }
          },
          "scene": {
           "xaxis": {
            "backgroundcolor": "#E5ECF6",
            "gridcolor": "white",
            "gridwidth": 2,
            "linecolor": "white",
            "showbackground": true,
            "ticks": "",
            "zerolinecolor": "white"
           },
           "yaxis": {
            "backgroundcolor": "#E5ECF6",
            "gridcolor": "white",
            "gridwidth": 2,
            "linecolor": "white",
            "showbackground": true,
            "ticks": "",
            "zerolinecolor": "white"
           },
           "zaxis": {
            "backgroundcolor": "#E5ECF6",
            "gridcolor": "white",
            "gridwidth": 2,
            "linecolor": "white",
            "showbackground": true,
            "ticks": "",
            "zerolinecolor": "white"
           }
          },
          "shapedefaults": {
           "line": {
            "color": "#2a3f5f"
           }
          },
          "ternary": {
           "aaxis": {
            "gridcolor": "white",
            "linecolor": "white",
            "ticks": ""
           },
           "baxis": {
            "gridcolor": "white",
            "linecolor": "white",
            "ticks": ""
           },
           "bgcolor": "#E5ECF6",
           "caxis": {
            "gridcolor": "white",
            "linecolor": "white",
            "ticks": ""
           }
          },
          "title": {
           "x": 0.05
          },
          "xaxis": {
           "automargin": true,
           "gridcolor": "white",
           "linecolor": "white",
           "ticks": "",
           "title": {
            "standoff": 15
           },
           "zerolinecolor": "white",
           "zerolinewidth": 2
          },
          "yaxis": {
           "automargin": true,
           "gridcolor": "white",
           "linecolor": "white",
           "ticks": "",
           "title": {
            "standoff": 15
           },
           "zerolinecolor": "white",
           "zerolinewidth": 2
          }
         }
        },
        "title": {
         "text": "Custom Performance Map"
        },
        "width": 800
       }
      }
     },
     "metadata": {},
     "output_type": "display_data"
    }
   ],
   "source": [
    "fig = px.scatter_mapbox(df, lat=\"latitude\", lon=\"longitude\",color ='perf_score',\n",
    "                        size ='perf_score',\n",
    "                        zoom=10,width=800, height=400, opacity=0.5,color_continuous_scale=px.colors.sequential.Viridis,\n",
    "                        range_color=[0,0.9],\n",
    "                        hover_data=['start_count', 'end_count', 'tripduration', 'connections']\n",
    "                        # zoom=3, height=300\n",
    "                        )\n",
    "fig.update_layout(mapbox_style=\"stamen-terrain\", title=\"Custom Performance Map\")\n",
    "fig.update_layout(margin={\"r\":0,\"t\":0,\"l\":0,\"b\":0})\n",
    "fig.show()"
   ]
  },
  {
   "cell_type": "code",
   "execution_count": null,
   "metadata": {},
   "outputs": [],
   "source": []
  }
 ],
 "metadata": {
  "kernelspec": {
   "display_name": "time_series_2",
   "language": "python",
   "name": "python3"
  },
  "language_info": {
   "codemirror_mode": {
    "name": "ipython",
    "version": 3
   },
   "file_extension": ".py",
   "mimetype": "text/x-python",
   "name": "python",
   "nbconvert_exporter": "python",
   "pygments_lexer": "ipython3",
   "version": "3.8.12"
  },
  "orig_nbformat": 4,
  "vscode": {
   "interpreter": {
    "hash": "b1e2c362f734fdaf1cd5de1bff2b38fee4874aff562821a9f959f7246de36480"
   }
  }
 },
 "nbformat": 4,
 "nbformat_minor": 2
}
